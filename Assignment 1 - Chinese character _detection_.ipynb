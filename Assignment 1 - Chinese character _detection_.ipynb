{
 "cells": [
  {
   "cell_type": "markdown",
   "id": "2c01d2b0",
   "metadata": {},
   "source": [
    "                                                                                                Patricia Grau Francitorra"
   ]
  },
  {
   "cell_type": "markdown",
   "id": "83cf5b08",
   "metadata": {},
   "source": [
    "# Assignment 1: Chinese character \"detection\""
   ]
  },
  {
   "cell_type": "markdown",
   "id": "9a8e6a11",
   "metadata": {},
   "source": [
    "**Introduction**\n",
    "\n",
    "Optical character recognition is an old \"AI\" and image-processing task.  What it involves is taking a photograph or scan of a piece of text (printed or handwritten) and turning the characters (as images) into character codes on the computer that therefore allow the text to be edited, indexed, etc.  A key part of that process is identifying where the characters actually are, especially if the characters are mixed among other non-writing, such as images of objects or people.\n",
    "\n",
    "In this assignment, you will **take images from a Chinese image database with annotations that indicate where the Chinese characters are, and you will train a model that takes test images, and superimposes upon them a visualization (of your choosing, e.g., a \"heat map\") of the likelihood that a pixel is close to or part of a valid Chinese character**.  The image database contains annotations of \"bounding boxes\", coordinates of the corners of a box that contains a single Chinese character.  In a sense, this assignment asks you to detect the bounding boxes in test images without the annotation, but a softer version of this: simply to **provide the probability, for each pixel, whether that pixel was part of a bounding box containing a Chinese character**.  Then, you are to \n",
    "   1. **superimpose upon the image a pixel-based map of likelihoods of where the bounding boxes ought to be** and\n",
    "   2. **apply an evaluation statistic**.\n",
    "\n",
    "This assignment grants you a lot of freedom in how you organize your code and set up the task overall.  Because of the degree of freedom it involves, it will mostly be graded on our evaluation of the effort put into the solution.  An actual high success at the task is not a requirement to get a high grade.  However, you will have to **report in detail**, in your own format, what you did, why you did it, how to run it -- it must run on mltgpu, be implemented in Python using PyTorch, and make use of the GPUs -- and how to apply it easily to our own test images.\n",
    "\n",
    "You will have almost a month to do this assignment, even though it is worth only 30% of your grade.  Another assignment with 30% will be given out for the last/remaining two weeks of the study period.   These time periods are coextensive with that of the project, but we expect you to be able to schedule your time well enough to put in an effort at both. This assignment is officially due at 23:59 on 2021 October 18. There are 30 points on this assignment, and a maximum of 20 bonus points."
   ]
  },
  {
   "cell_type": "markdown",
   "id": "f1aa7228",
   "metadata": {},
   "source": [
    "**The data**\n",
    "\n",
    "The source of the task is here: https://ctwdataset.github.io/ (Links to an external site.) They have example images and an example of a baseline task that is much more advanced than what we are doing, but it will give you an idea of the data format, particularly the metadata.  Pay attention especially to the \"Annotation format\" section of this page: https://ctwdataset.github.io/tutorial/1-basics.html (Links to an external site.)\n",
    "\n",
    "The metadata and a small sample of the whole image dataset is available at /scratch/lt2326-h21/a1 on mltgpu. The metadata is in json format.  info.json contains information about every image file.  We will unzip only a minority of the original training image files.  train.jsonl is a list of json entities, one per line (that have to be parsed with the json package each separately) that correspond to the files in info.json.  This contains the bounding box information, as well as other information for the original challenge on the web.  See the \"Annotation format\" section mentioned on the dataset web page linked above."
   ]
  },
  {
   "cell_type": "markdown",
   "id": "deef73dd",
   "metadata": {},
   "source": [
    "## Part 1: data preparation (7 points)\n",
    "\n",
    "The image files are in /scratch/lt2326-h21/a1/images on mltgpu. They are in jpg format.  The code that you write for this part of the project should:\n",
    "\n",
    "- Use the info.json file to figure out what files are in the training set.  You will just use the official training data for everything.  Remember that you will only see a small minority of training examples in the images directory, for space reasons.\n",
    "- Divide up the official training data files into your own training, validation, and test datasets depending on your own preferences. You can choose to use fewer files than the maximum available if you run into problems with memory and so on (but first make sure your implementation is reasonably efficient).\n",
    "- Find the corresponding bounding box information in train.jsonl for each image. \n",
    "\n",
    "You can represent the data in any way you like, but remember that **it will become a numpy array for processing and a torch tensor for training**.  Remember also that **the classes are defined by pixel: for each pixel, you will eventually have a set of features (e.g. colour values), and a binary class corresponding to whether the pixel was in a Chinese character bounding box or not (note that there are non-Chinese characters in the set -- see the annotation instructions)**.  You are allowed to **reduce the dimensionality of the images for processing, but consider using a pooling and/or upsampling technique in Part 2** of this assignment to accomplish this goal. \n",
    "\n",
    "Describe the choices you made and the challenges you found in your report."
   ]
  },
  {
   "cell_type": "code",
   "execution_count": 1,
   "id": "30d08cca",
   "metadata": {},
   "outputs": [],
   "source": [
    "import os, sys\n",
    "from os import listdir\n",
    "from PIL import Image\n",
    "import numpy as np\n",
    "import json\n",
    "import torch\n",
    "import torch.nn as nn\n",
    "import torch.optim as optim\n",
    "\n",
    "import matplotlib.pyplot as plt\n",
    "import matplotlib.image as mpimg\n",
    "import matplotlib.path as mplpath\n",
    "\n",
    "from skimage import transform\n",
    "\n",
    "import random\n",
    "\n",
    "from torch.utils.data import DataLoader\n",
    "\n",
    "import time\n",
    "from joblib import Parallel, delayed"
   ]
  },
  {
   "cell_type": "code",
   "execution_count": 2,
   "id": "0c15a207",
   "metadata": {},
   "outputs": [],
   "source": [
    "# some info\n",
    "\n",
    "# Opening JSON file\n",
    "f = open('/scratch/lt2326-h21/a1/info.json',)\n",
    "\n",
    "# returns JSON object as a dictionary\n",
    "info = json.load(f)\n",
    "\n",
    "# print(info.keys())\n",
    "# print(info['train'][0])\n",
    "# print(len(info['train']))\n",
    "\n",
    "# gets the names of the images in train\n",
    "im_in_train = []\n",
    "for a in info['train']:\n",
    "    name = a['image_id'] + '.jpg'\n",
    "    im_in_train.append(name)\n",
    "\n",
    "# Closing file\n",
    "f.close()"
   ]
  },
  {
   "cell_type": "code",
   "execution_count": 3,
   "id": "f1503816",
   "metadata": {},
   "outputs": [],
   "source": [
    "with open('/scratch/lt2326-h21/a1/train.jsonl') as trainfile:\n",
    "    traindata = [json.loads(x) for x in trainfile]"
   ]
  },
  {
   "cell_type": "code",
   "execution_count": 4,
   "id": "2b1d2169",
   "metadata": {},
   "outputs": [
    {
     "name": "stdout",
     "output_type": "stream",
     "text": [
      "There are 845 images in the image folder that come from the train file.\n"
     ]
    }
   ],
   "source": [
    "# checking what images are in the images folder\n",
    "\n",
    "path = '/scratch/lt2326-h21/a1/images'\n",
    "dirs = os.listdir(path)\n",
    "\n",
    "usable_img_names = []\n",
    "for img_name in dirs:\n",
    "    if img_name in im_in_train:\n",
    "        usable_img_names.append(img_name)\n",
    "print('There are', len(usable_img_names), 'images in the image folder that come from the train file.')\n",
    "\n",
    "# only taking the images that are in the folder\n",
    "\n",
    "usable_data = []\n",
    "for e in traindata:\n",
    "    if e['file_name'] in usable_img_names:\n",
    "        usable_data.append(e)"
   ]
  },
  {
   "cell_type": "code",
   "execution_count": 5,
   "id": "1d7b0ccc",
   "metadata": {},
   "outputs": [
    {
     "name": "stdout",
     "output_type": "stream",
     "text": [
      "676 84 85\n"
     ]
    }
   ],
   "source": [
    "# separating data into training, testing and validation data\n",
    "# the train set consists of 80% of the data, test and validation sets are 10% of the data\n",
    "\n",
    "random.shuffle(usable_data)\n",
    "\n",
    "usable_train, usable_test, usable_val = np.split(usable_data, [int(len(usable_data)*0.8), int(len(usable_data)*0.9)])\n",
    "\n",
    "print(len(usable_train), len(usable_test), len(usable_val)) # sanity test"
   ]
  },
  {
   "cell_type": "code",
   "execution_count": 6,
   "id": "b7765697",
   "metadata": {},
   "outputs": [],
   "source": [
    "# we have usable_train, a list that contains dictionaries for each image\n",
    "# {image_id1 : {'chinese' : [[poligon 1], [poligon2]], 'non_chinese' : [[poligon 1], [poligon2]]}, image_id2 : {'chinese' : [pol1], [pol2], [pol3]], 'non_chinese': []...}...}\n",
    "# We will have all the polygons of every image, the ones that contain chinese characters and the ones that don't\n",
    "\n",
    "def get_chinese(some_usable):\n",
    "    chinese_im = {}\n",
    "    \n",
    "    for image in some_usable:\n",
    "        chinese_im[image['image_id']] = {'chinese' : [], 'non_chinese' : []}\n",
    "        for anno in image['annotations']:\n",
    "            for a in anno:\n",
    "                if a['is_chinese']:\n",
    "                    chinese_im[image['image_id']]['chinese'].append(a['polygon'])\n",
    "                else:\n",
    "                    chinese_im[image['image_id']]['non_chinese'].append(a['polygon'])\n",
    "    return chinese_im"
   ]
  },
  {
   "cell_type": "code",
   "execution_count": 7,
   "id": "8e63e1d1",
   "metadata": {},
   "outputs": [],
   "source": [
    "chi_train = get_chinese(usable_train)\n",
    "chi_test = get_chinese(usable_test)\n",
    "chi_val = get_chinese(usable_val)\n",
    "\n",
    "train_im_names = list(chi_train.keys())\n",
    "test_im_names = list(chi_test.keys())\n",
    "val_im_names = list(chi_val.keys())"
   ]
  },
  {
   "cell_type": "code",
   "execution_count": 9,
   "id": "daa26d2b",
   "metadata": {},
   "outputs": [],
   "source": [
    "# just for one image\n",
    "def imageAndTensor(image):  \n",
    "    path = '/scratch/lt2326-h21/a1/images'\n",
    "    \n",
    "    # loading the image\n",
    "    fullimg = mpimg.imread(path + \"/\" + image + \".jpg\")\n",
    "    img = transform.resize(fullimg, (200,200))\n",
    "\n",
    "    # making it a tensor\n",
    "    timg = torch.tensor(img)\n",
    "    timg = timg.float()\n",
    "\n",
    "    # preparing it for a conv layer\n",
    "    permute = timg.permute((2, 0, 1))\n",
    "\n",
    "    return permute"
   ]
  },
  {
   "cell_type": "code",
   "execution_count": 10,
   "id": "05639f23",
   "metadata": {},
   "outputs": [],
   "source": [
    "# just one image\n",
    "def ImageGoldValues(chi_data, image):\n",
    "   \n",
    "    # making an empty grid\n",
    "    grid = np.array([[[a,b] for b in list(range(2048))] for a in list(range(2048))])\n",
    "    grid.shape = (2048*2048, 2)\n",
    "\n",
    "    # getting the path for each polygon and updating a 0 matrix\n",
    "    zeros = np.zeros(2048*2048)\n",
    "\n",
    "    for pol in chi_data[image]['chinese']:\n",
    "        pol_path = mplpath.Path(pol)\n",
    "        truthvals = pol_path.contains_points(grid)\n",
    "\n",
    "        # turning it into 0s and 1s    \n",
    "        truthvals = np.asarray(truthvals, int)\n",
    "\n",
    "        # updating\n",
    "        # we take the maximum in case there is the same pixel in different polygons\n",
    "        zeros = np.maximum(truthvals, zeros)\n",
    "\n",
    "    return torch.LongTensor(zeros)"
   ]
  },
  {
   "cell_type": "code",
   "execution_count": 11,
   "id": "1d3c917c",
   "metadata": {},
   "outputs": [],
   "source": [
    "def process_images_in_parallel(chi_data, image):\n",
    "    return (imageAndTensor(image), \n",
    "            ImageGoldValues(chi_data, image))"
   ]
  },
  {
   "cell_type": "code",
   "execution_count": 12,
   "id": "bab72533",
   "metadata": {},
   "outputs": [
    {
     "name": "stdout",
     "output_type": "stream",
     "text": [
      "Processing data took 905.0 seconds\n"
     ]
    }
   ],
   "source": [
    "start = time.time()\n",
    "processed_train = Parallel(n_jobs = 10)(delayed(process_images_in_parallel)(chi_train, image) for image in chi_train)\n",
    "end = time.time()\n",
    "\n",
    "print(\"Processing data took\", round(end-start, 0), \"seconds\")"
   ]
  },
  {
   "cell_type": "code",
   "execution_count": 13,
   "id": "87071170",
   "metadata": {},
   "outputs": [
    {
     "name": "stdout",
     "output_type": "stream",
     "text": [
      "Processing data took 120.0 seconds\n"
     ]
    }
   ],
   "source": [
    "start = time.time()\n",
    "processed_val = Parallel(n_jobs = 10)(delayed(process_images_in_parallel)(chi_val, image) for image in chi_val)\n",
    "end = time.time()\n",
    "\n",
    "print(\"Processing data took\", round(end-start, 0), \"seconds\")"
   ]
  },
  {
   "cell_type": "code",
   "execution_count": 14,
   "id": "98e1e8d7",
   "metadata": {},
   "outputs": [
    {
     "name": "stdout",
     "output_type": "stream",
     "text": [
      "Processing data took 114.0 seconds\n"
     ]
    }
   ],
   "source": [
    "start = time.time()\n",
    "processed_test = Parallel(n_jobs = 10)(delayed(process_images_in_parallel)(chi_test, image) for image in chi_test)\n",
    "end = time.time()\n",
    "\n",
    "print(\"Processing data took\", round(end-start, 0), \"seconds\")"
   ]
  },
  {
   "cell_type": "markdown",
   "id": "cd6a2893",
   "metadata": {},
   "source": [
    "## Part 2: the models (10 points)\n",
    "\n",
    "In this part, you will implement two substantially different model archictectures, that both take your representation of the images as training input and both take your representation of the bounding boxes as objective (HINT: the binary classification of pixels as belonging to a bounding box or not).  They will save the trained models to files so that they can be loaded and tested later. The output of the models will be a \"soft binary\" -- the probability of each pixel being inside a bounding box, from 0 to 1.  Consider examining some of the training data before designing your architectures.\n",
    "\n",
    "You have a large grant of freedom as to what these model architectures will look like (remember: grading is on a \"reasonable effort\" basis).  There's a high chance (HINT) that they will both use **one or more convolutional layers**, among other things.  Describe the models and the motivations for the architecture in your report."
   ]
  },
  {
   "cell_type": "code",
   "execution_count": 23,
   "id": "f3773235",
   "metadata": {},
   "outputs": [],
   "source": [
    "# hyperparameters 1\n",
    "device = torch.device('cuda:3')\n",
    "\n",
    "batch_size = 4\n",
    "learning_rate = 0.0001\n",
    "epochs = 5"
   ]
  },
  {
   "cell_type": "code",
   "execution_count": 24,
   "id": "67988859",
   "metadata": {},
   "outputs": [],
   "source": [
    "train_dataloader = DataLoader(processed_train, batch_size=batch_size, shuffle=True)"
   ]
  },
  {
   "cell_type": "code",
   "execution_count": 87,
   "id": "36c177aa",
   "metadata": {},
   "outputs": [],
   "source": [
    "# The first model will be based in LeNet (1998), because baby steps y'know?\n",
    "# idea: two conv layers and three fully connected layers\n",
    "class FirstModel(nn.Module):\n",
    "    def __init__(self):\n",
    "        super(FirstModel, self).__init__()\n",
    "        \n",
    "        self.conv1 = nn.Conv2d(3, 3, (3, 3), 1, padding=(1, 1))\n",
    "        self.relu1 = nn.ReLU()\n",
    "        self.pool1 = nn.MaxPool2d(2)\n",
    "        \n",
    "        self.conv2 = nn.Conv2d(3, 3, (3, 3), 1, padding=(1, 1))\n",
    "        self.relu2 = nn.ReLU()\n",
    "        self.pool2 = nn.MaxPool2d(2)\n",
    "        \n",
    "        self.linear1 = nn.Linear(3*50*50, 1*50*50)\n",
    "        self.relu3 = nn.ReLU()\n",
    "        \n",
    "        self.linear2 =  nn.Linear(50*50, 500)\n",
    "        self.relu4 = nn.ReLU()\n",
    "        \n",
    "        self.linear3 = nn.Linear(500, 100)\n",
    "        self.relu5 = nn.ReLU()\n",
    "        \n",
    "#         self.upsampling = nn.Upsample((2048,2048))\n",
    "    \n",
    "    def forward(self, x):\n",
    "        y = self.conv1(x)\n",
    "        y = self.relu1(y)\n",
    "        y = self.pool1(y)\n",
    "        \n",
    "        y = self.conv2(y)\n",
    "        y = self.relu2(y)\n",
    "        y = self.pool2(y)\n",
    "        \n",
    "        y = y.view(y.shape[0], -1)\n",
    "        \n",
    "        y = self.linear1(y)\n",
    "        y = self.relu3(y)\n",
    "        \n",
    "        y = self.linear2(y)\n",
    "        y = self.relu4(y)\n",
    "        \n",
    "        y = self.linear3(y)\n",
    "        y = self.relu5(y)\n",
    "        \n",
    "#         reshaping = y.reshape((4, 10, 10, 1))\n",
    "#         reshaping = reshaping.permute((0, 3, 1, 2))\n",
    "\n",
    "#         bigboi = self.upsampling(reshaping)\n",
    "#         output = bigboi.permute((0, 2, 3, 1))\n",
    "#         output = output.reshape(4, 2048*2048)\n",
    "        \n",
    "#         return output\n",
    "        return y"
   ]
  },
  {
   "cell_type": "code",
   "execution_count": 103,
   "id": "f319e208",
   "metadata": {},
   "outputs": [],
   "source": [
    "firstmodel = FirstModel().to(device)"
   ]
  },
  {
   "cell_type": "code",
   "execution_count": 104,
   "id": "626dbb24",
   "metadata": {},
   "outputs": [],
   "source": [
    "def train(model, train_dataloader, device):\n",
    "    loss = nn.BCELoss()\n",
    "    optimizer = optim.Adam(model.parameters(), lr=learning_rate)\n",
    "    upsampling = nn.Upsample((2048,2048))\n",
    "    \n",
    "    model.train()\n",
    "\n",
    "    for e in range(epochs):\n",
    "        epoch_loss = 0\n",
    "        \n",
    "        for i, (tensors, matrix) in enumerate(train_dataloader):\n",
    "            tensors = tensors.to(device)\n",
    "            matrix = matrix.to(torch.float32).to(device)\n",
    "\n",
    "            y = model(tensors)\n",
    "            \n",
    "            reshaping = y.reshape((y.size()[0], 10, 10, 1))\n",
    "            reshaping = reshaping.permute((0, 3, 1, 2))\n",
    "\n",
    "            bigboi = upsampling(reshaping)\n",
    "            output = bigboi.permute((0, 2, 3, 1))\n",
    "            output = output.reshape(y.size()[0], 2048*2048)\n",
    "            \n",
    "            batch_loss = loss(output, matrix)\n",
    "            epoch_loss += batch_loss.item()\n",
    "            \n",
    "            print(epoch_loss/(i+1), end='\\r')\n",
    "            \n",
    "            batch_loss.backward()\n",
    "            \n",
    "            optimizer.step()\n",
    "            \n",
    "            optimizer.zero_grad()\n",
    "        \n",
    "        print()\n",
    "        \n",
    "    return model"
   ]
  },
  {
   "cell_type": "code",
   "execution_count": 105,
   "id": "341e92bc",
   "metadata": {},
   "outputs": [],
   "source": [
    "device = torch.device(\"cpu\")"
   ]
  },
  {
   "cell_type": "code",
   "execution_count": 106,
   "id": "85e6a5ba",
   "metadata": {
    "scrolled": false
   },
   "outputs": [
    {
     "name": "stdout",
     "output_type": "stream",
     "text": [
      "0.48779869035503574\n",
      "0.48972953706098027\n",
      "0.48972953706098027\n",
      "0.48972953706098027\n",
      "0.48972953706098027\n"
     ]
    }
   ],
   "source": [
    "m1 = train(firstmodel, train_dataloader, device)"
   ]
  },
  {
   "cell_type": "code",
   "execution_count": 172,
   "id": "c72565e8",
   "metadata": {},
   "outputs": [],
   "source": [
    "torch.save(m1, 'firstmodel.pt')"
   ]
  },
  {
   "cell_type": "code",
   "execution_count": null,
   "id": "8b0ddab3",
   "metadata": {},
   "outputs": [],
   "source": []
  },
  {
   "cell_type": "code",
   "execution_count": 95,
   "id": "a0ae7ac2",
   "metadata": {},
   "outputs": [],
   "source": [
    "# AlexNet\n",
    "# https://towardsdatascience.com/implementing-alexnet-cnn-architecture-using-tensorflow-2-0-and-keras-2113e090ad98\n",
    "class SecondModel(nn.Module):\n",
    "    def __init__(self):\n",
    "        super(SecondModel, self).__init__()\n",
    "        \n",
    "        self.conv1 = nn.Conv2d(3, 3, (3, 3), 1, padding=(1, 1))\n",
    "#         Applies Batch Normalization over a 4D input (a mini-batch of 2D inputs with additional channel dimension)\n",
    "        self.batchnorm1 = nn.BatchNorm2d(3) # output of previous layer\n",
    "        self.pool1 = nn.MaxPool2d(2)\n",
    "        \n",
    "        self.conv2 = nn.Conv2d(3, 3, (3, 3), 1, padding=(1, 1))\n",
    "        self.batchnorm2 = nn.BatchNorm2d(3)\n",
    "        self.pool2 = nn.MaxPool2d(2)\n",
    "        \n",
    "        self.conv3 = nn.Conv2d(3, 3, (3, 3), 1, padding=(1, 1))\n",
    "        self.batchnorm3 = nn.BatchNorm2d(3)\n",
    "        \n",
    "        self.conv4 = nn.Conv2d(3, 3, (3, 3), 1, padding=(1, 1))\n",
    "        self.batchnorm4 = nn.BatchNorm2d(3)\n",
    "        \n",
    "        self.conv5 = nn.Conv2d(3, 3, (3, 3), 1, padding=(1, 1))\n",
    "        self.batchnorm5 = nn.BatchNorm2d(3)\n",
    "        \n",
    "        self.pool3 = nn.MaxPool2d(2)\n",
    "        \n",
    "        self.linear1 = nn.Linear(3*25*25, 500)\n",
    "        self.dropout1 = nn.Dropout(p=0.5) # 0.5?\n",
    "        self.relu1 = nn.ReLU()\n",
    "        \n",
    "        self.linear2 =  nn.Linear(500, 250)\n",
    "        self.dropout2 = nn.Dropout(p=0.5)\n",
    "        self.relu2 = nn.ReLU()\n",
    "        \n",
    "        self.linear3 = nn.Linear(250, 100)\n",
    "        self.relu3 = nn.ReLU()\n",
    "        \n",
    "        self.sigm = nn.Sigmoid()\n",
    "        \n",
    "        self.upsampling = nn.Upsample((2048,2048))\n",
    "    \n",
    "    def forward(self, x):\n",
    "        \n",
    "        y = self.conv1(x)\n",
    "        y = self.batchnorm1(y)\n",
    "        y = self.pool1(y)\n",
    "        \n",
    "        y = self.conv2(y)\n",
    "        y = self.batchnorm2(y)\n",
    "        y = self.pool2(y)\n",
    "        \n",
    "        y = self.conv3(y)\n",
    "        y = self.batchnorm3(y)\n",
    "        \n",
    "        y = self.conv4(y)\n",
    "        y = self.batchnorm4(y)\n",
    "        \n",
    "        y = self.conv5(y)\n",
    "        y = self.batchnorm5(y)\n",
    "        \n",
    "        y = self.pool3(y)\n",
    "        \n",
    "        y = y.view(y.shape[0], -1)\n",
    "        \n",
    "        y = self.linear1(y)\n",
    "        y = self.dropout1(y)\n",
    "        y = self.relu1(y)\n",
    "        \n",
    "        y = self.linear2(y)\n",
    "        y = self.dropout2(y)\n",
    "        y = self.relu2(y)\n",
    "        \n",
    "        y = self.linear3(y)\n",
    "        y = self.relu3(y)\n",
    "        \n",
    "        y = self.sigm(y)\n",
    "        \n",
    "#         reshaping = y.reshape((4, 10, 10, 1))\n",
    "#         reshaping = reshaping.permute((0, 3, 1, 2)) # [4, 1, 10, 10]\n",
    "        \n",
    "# #         squeezing= reshaping.unsqueeze(0).to(device)\n",
    "# #         bigboi = self.upsampling(squeezing).to(device)\n",
    "#         bigboi = self.upsampling(reshaping) # [4, 1, 2048, 2048]?\n",
    "#         output = bigboi.permute((0, 2, 3, 1)) #[4, 2048, 2048, 1]?\n",
    "#         output = output.reshape(4, 2048*2048)\n",
    "        \n",
    "#         return output\n",
    "        return y"
   ]
  },
  {
   "cell_type": "code",
   "execution_count": 97,
   "id": "33aef41d",
   "metadata": {},
   "outputs": [],
   "source": [
    "device = torch.device('cpu')"
   ]
  },
  {
   "cell_type": "code",
   "execution_count": 98,
   "id": "6d637069",
   "metadata": {},
   "outputs": [],
   "source": [
    "# hyperparameters 1\n",
    "\n",
    "batch_size = 4\n",
    "learning_rate = 0.001\n",
    "epochs = 5"
   ]
  },
  {
   "cell_type": "code",
   "execution_count": 99,
   "id": "4ef0e5e9",
   "metadata": {
    "scrolled": false
   },
   "outputs": [],
   "source": [
    "secondmodel = SecondModel().to(device)"
   ]
  },
  {
   "cell_type": "code",
   "execution_count": 100,
   "id": "03df4ac2",
   "metadata": {},
   "outputs": [
    {
     "name": "stdout",
     "output_type": "stream",
     "text": [
      "0.6946241915578673\n",
      "0.6931689501514097\n",
      "0.6931633949279785\n",
      "0.6931539795102453\n",
      "0.6931525497041511\n"
     ]
    }
   ],
   "source": [
    "m2 = train(secondmodel, train_dataloader, device)"
   ]
  },
  {
   "cell_type": "code",
   "execution_count": 27,
   "id": "c14a4530",
   "metadata": {},
   "outputs": [],
   "source": [
    "torch.save(m2, 'secondmodel.pt')"
   ]
  },
  {
   "cell_type": "code",
   "execution_count": null,
   "id": "bfd8702e",
   "metadata": {},
   "outputs": [],
   "source": []
  },
  {
   "cell_type": "markdown",
   "id": "43840f33",
   "metadata": {},
   "source": [
    "## Part 3: testing and evaluation (13 points)\n",
    "You can use your test data by feeding the test images forward through the models. The output of the models will be pixel maps of the probability of a particular pixel being inside a bounding box.  These will be compared outside the model to the test data's bounding boxes.  \n",
    "You can use a number of different evaluation strategies\n",
    "- one of them being to choose a probability threshold to decide whether a pixel is inside the bounding box or not, and then take recall/precision/X11/accuracy. \n",
    "- Another one is to report it in terms of error, such as mean squared error. \n",
    "Even given your architectural choices, you will likely have hyperparameters to tune.  Describe the progress of your training and testing, with graphs if necessary, in your report.\n",
    "\n",
    "It should also be possible to **examine the effects of applying the model to individual images**.  Make it possible to **visually represent the pixel/bounding box probabilities superimposed on the original images.  Examine some of the images to conduct a qualitative error analysis of your trained models**. Include this analysis in your report."
   ]
  },
  {
   "cell_type": "code",
   "execution_count": 134,
   "id": "cf4c55c1",
   "metadata": {},
   "outputs": [],
   "source": [
    "val_dataloader = DataLoader(processed_val, batch_size=batch_size, shuffle=True)"
   ]
  },
  {
   "cell_type": "code",
   "execution_count": 135,
   "id": "493f910a",
   "metadata": {},
   "outputs": [],
   "source": [
    "def test(model, dataloader):\n",
    "    upsampling = nn.Upsample((2048,2048))\n",
    "    \n",
    "    MSQE = nn.MSELoss()\n",
    "\n",
    "    model.eval()\n",
    "\n",
    "    total_loss = 0\n",
    "    correct_guesses = 0\n",
    "\n",
    "    for i, (tensors, matrix) in enumerate(test_dataloader):\n",
    "        tensors = tensors.to(device)\n",
    "        matrix = matrix.to(torch.float32).to(device)\n",
    "\n",
    "        with torch.no_grad():\n",
    "            y = m1(tensors)\n",
    "        \n",
    "        \n",
    "        reshaping = y.reshape((y.size()[0], 10, 10, 1))\n",
    "        reshaping = reshaping.permute((0, 3, 1, 2))\n",
    "\n",
    "        bigboi = upsampling(reshaping)\n",
    "        output = bigboi.permute((0, 2, 3, 1))\n",
    "        output = output.reshape(y.size()[0], 2048*2048)\n",
    "        \n",
    "        # accuracy\n",
    "        correct_guesses += torch.sum(torch.eq(torch.round(output), matrix))\n",
    "        \n",
    "        loss = MSQE(output, matrix)\n",
    "#         loss = MSQE(output, matrix.view(-1))\n",
    "#         loss = torch.eq(MSQE(output, matrix))\n",
    "        total_loss += loss.item()\n",
    "        \n",
    "        # average loss for the epoch\n",
    "        print(total_loss/(i+1), end='\\r')\n",
    "\n",
    "    accuracy = int(correct_guesses) / ((i+1) * batch_size * 3*2048**2)\n",
    "\n",
    "    print('accuracy: ', accuracy)\n",
    "\n",
    "    print('total mean squared error:', total_loss)"
   ]
  },
  {
   "cell_type": "code",
   "execution_count": 136,
   "id": "2ed34aaf",
   "metadata": {},
   "outputs": [
    {
     "name": "stdout",
     "output_type": "stream",
     "text": [
      "accuracy:  0.32036353331623657\n",
      "total mean squared error: 0.10802578926086426\n"
     ]
    }
   ],
   "source": [
    "test(m1, val_dataloader)"
   ]
  },
  {
   "cell_type": "code",
   "execution_count": 137,
   "id": "1d9e3544",
   "metadata": {},
   "outputs": [
    {
     "name": "stdout",
     "output_type": "stream",
     "text": [
      "accuracy:  0.32036353331623657\n",
      "total mean squared error: 0.11106008291244507\n"
     ]
    }
   ],
   "source": [
    "test(m2, val_dataloader)"
   ]
  },
  {
   "cell_type": "markdown",
   "id": "b82f6250",
   "metadata": {},
   "source": [
    "It is very suspicious that I get the exact same accuracy... I need to check that!"
   ]
  },
  {
   "cell_type": "code",
   "execution_count": null,
   "id": "70a352d7",
   "metadata": {},
   "outputs": [],
   "source": []
  },
  {
   "cell_type": "markdown",
   "id": "e6737549",
   "metadata": {},
   "source": [
    "don't forget File > Close and Halt to be good citizens 😇"
   ]
  }
 ],
 "metadata": {
  "kernelspec": {
   "display_name": "Python 3 (ipykernel)",
   "language": "python",
   "name": "python3"
  },
  "language_info": {
   "codemirror_mode": {
    "name": "ipython",
    "version": 3
   },
   "file_extension": ".py",
   "mimetype": "text/x-python",
   "name": "python",
   "nbconvert_exporter": "python",
   "pygments_lexer": "ipython3",
   "version": "3.9.6"
  }
 },
 "nbformat": 4,
 "nbformat_minor": 5
}
