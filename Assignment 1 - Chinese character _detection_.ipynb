{
 "cells": [
  {
   "cell_type": "markdown",
   "id": "2c01d2b0",
   "metadata": {},
   "source": [
    "                                                                                                Patricia Grau Francitorra"
   ]
  },
  {
   "cell_type": "markdown",
   "id": "83cf5b08",
   "metadata": {},
   "source": [
    "# Assignment 1: Chinese character \"detection\""
   ]
  },
  {
   "cell_type": "markdown",
   "id": "9a8e6a11",
   "metadata": {},
   "source": [
    "**Introduction**\n",
    "\n",
    "Optical character recognition is an old \"AI\" and image-processing task.  What it involves is taking a photograph or scan of a piece of text (printed or handwritten) and turning the characters (as images) into character codes on the computer that therefore allow the text to be edited, indexed, etc.  A key part of that process is identifying where the characters actually are, especially if the characters are mixed among other non-writing, such as images of objects or people.\n",
    "\n",
    "In this assignment, you will **take images from a Chinese image database with annotations that indicate where the Chinese characters are, and you will train a model that takes test images, and superimposes upon them a visualization (of your choosing, e.g., a \"heat map\") of the likelihood that a pixel is close to or part of a valid Chinese character**.  The image database contains annotations of \"bounding boxes\", coordinates of the corners of a box that contains a single Chinese character.  In a sense, this assignment asks you to detect the bounding boxes in test images without the annotation, but a softer version of this: simply to **provide the probability, for each pixel, whether that pixel was part of a bounding box containing a Chinese character**.  Then, you are to \n",
    "   1. **superimpose upon the image a pixel-based map of likelihoods of where the bounding boxes ought to be** and\n",
    "   2. **apply an evaluation statistic**.\n",
    "\n",
    "This assignment grants you a lot of freedom in how you organize your code and set up the task overall.  Because of the degree of freedom it involves, it will mostly be graded on our evaluation of the effort put into the solution.  An actual high success at the task is not a requirement to get a high grade.  However, you will have to **report in detail**, in your own format, what you did, why you did it, how to run it -- it must run on mltgpu, be implemented in Python using PyTorch, and make use of the GPUs -- and how to apply it easily to our own test images.\n",
    "\n",
    "You will have almost a month to do this assignment, even though it is worth only 30% of your grade.  Another assignment with 30% will be given out for the last/remaining two weeks of the study period.   These time periods are coextensive with that of the project, but we expect you to be able to schedule your time well enough to put in an effort at both. This assignment is officially due at 23:59 on 2021 October 18. There are 30 points on this assignment, and a maximum of 20 bonus points."
   ]
  },
  {
   "cell_type": "markdown",
   "id": "f1aa7228",
   "metadata": {},
   "source": [
    "**The data**\n",
    "\n",
    "The source of the task is here: https://ctwdataset.github.io/ (Links to an external site.) They have example images and an example of a baseline task that is much more advanced than what we are doing, but it will give you an idea of the data format, particularly the metadata.  Pay attention especially to the \"Annotation format\" section of this page: https://ctwdataset.github.io/tutorial/1-basics.html (Links to an external site.)\n",
    "\n",
    "The metadata and a small sample of the whole image dataset is available at /scratch/lt2326-h21/a1 on mltgpu. The metadata is in json format.  info.json contains information about every image file.  We will unzip only a minority of the original training image files.  train.jsonl is a list of json entities, one per line (that have to be parsed with the json package each separately) that correspond to the files in info.json.  This contains the bounding box information, as well as other information for the original challenge on the web.  See the \"Annotation format\" section mentioned on the dataset web page linked above."
   ]
  },
  {
   "cell_type": "markdown",
   "id": "deef73dd",
   "metadata": {},
   "source": [
    "## Part 1: data preparation (7 points)\n",
    "\n",
    "The image files are in /scratch/lt2326-h21/a1/images on mltgpu. They are in jpg format.  The code that you write for this part of the project should:\n",
    "\n",
    "- Use the info.json file to figure out what files are in the training set.  You will just use the official training data for everything.  Remember that you will only see a small minority of training examples in the images directory, for space reasons.\n",
    "- Divide up the official training data files into your own training, validation, and test datasets depending on your own preferences. You can choose to use fewer files than the maximum available if you run into problems with memory and so on (but first make sure your implementation is reasonably efficient).\n",
    "- Find the corresponding bounding box information in train.jsonl for each image. \n",
    "\n",
    "You can represent the data in any way you like, but remember that **it will become a numpy array for processing and a torch tensor for training**.  Remember also that **the classes are defined by pixel: for each pixel, you will eventually have a set of features (e.g. colour values), and a binary class corresponding to whether the pixel was in a Chinese character bounding box or not (note that there are non-Chinese characters in the set -- see the annotation instructions)**.  You are allowed to **reduce the dimensionality of the images for processing, but consider using a pooling and/or upsampling technique in Part 2** of this assignment to accomplish this goal. \n",
    "\n",
    "Describe the choices you made and the challenges you found in your report."
   ]
  },
  {
   "cell_type": "code",
   "execution_count": 1,
   "id": "30d08cca",
   "metadata": {},
   "outputs": [],
   "source": [
    "import os, sys\n",
    "from os import listdir\n",
    "from PIL import Image\n",
    "import numpy as np\n",
    "import json\n",
    "import torch\n",
    "import torch.nn as nn\n",
    "import torch.optim as optim\n",
    "\n",
    "import matplotlib.pyplot as plt\n",
    "import matplotlib.image as mpimg\n",
    "import matplotlib.path as mplpath\n",
    "\n",
    "from skimage import transform\n",
    "\n",
    "import random\n",
    "\n",
    "from torch.utils.data import DataLoader\n",
    "\n",
    "import time\n",
    "from joblib import Parallel, delayed"
   ]
  },
  {
   "cell_type": "code",
   "execution_count": 2,
   "id": "0c15a207",
   "metadata": {},
   "outputs": [],
   "source": [
    "# some info\n",
    "\n",
    "# Opening JSON file\n",
    "f = open('/scratch/lt2326-h21/a1/info.json',)\n",
    "\n",
    "# returns JSON object as a dictionary\n",
    "info = json.load(f)\n",
    "\n",
    "# print(info.keys())\n",
    "# print(info['train'][0])\n",
    "# print(len(info['train']))\n",
    "\n",
    "# gets the names of the images in train\n",
    "im_in_train = []\n",
    "for a in info['train']:\n",
    "    name = a['image_id'] + '.jpg'\n",
    "    im_in_train.append(name)\n",
    "\n",
    "# Closing file\n",
    "f.close()"
   ]
  },
  {
   "cell_type": "code",
   "execution_count": 3,
   "id": "f1503816",
   "metadata": {},
   "outputs": [],
   "source": [
    "with open('/scratch/lt2326-h21/a1/train.jsonl') as trainfile:\n",
    "    traindata = [json.loads(x) for x in trainfile]\n",
    "\n",
    "# let's take a look at the traindata\n",
    "# traindata[0]"
   ]
  },
  {
   "cell_type": "code",
   "execution_count": 4,
   "id": "2b1d2169",
   "metadata": {},
   "outputs": [
    {
     "name": "stdout",
     "output_type": "stream",
     "text": [
      "There are 845 images in the image folder that come from the train file.\n"
     ]
    }
   ],
   "source": [
    "# print(im_in_train)\n",
    "# checking what images are in the images folder\n",
    "\n",
    "path = '/scratch/lt2326-h21/a1/images'\n",
    "dirs = os.listdir(path)\n",
    "\n",
    "usable_img_names = []\n",
    "for img_name in dirs:\n",
    "    if img_name in im_in_train:\n",
    "        usable_img_names.append(img_name)\n",
    "print('There are', len(usable_img_names), 'images in the image folder that come from the train file.')\n",
    "\n",
    "# only taking the images that are in the folder\n",
    "\n",
    "usable_data = []\n",
    "for e in traindata:\n",
    "    if e['file_name'] in usable_img_names:\n",
    "        usable_data.append(e)\n",
    "\n",
    "# print(usable_data[0])"
   ]
  },
  {
   "cell_type": "code",
   "execution_count": 5,
   "id": "1d7b0ccc",
   "metadata": {},
   "outputs": [
    {
     "name": "stdout",
     "output_type": "stream",
     "text": [
      "676 84 85\n"
     ]
    }
   ],
   "source": [
    "# separating data into training, testing and validation data\n",
    "# the train set consists of 80% of the data, test and validation sets are 10% of the data\n",
    "\n",
    "random.shuffle(usable_data)\n",
    "\n",
    "usable_train, usable_test, usable_val = np.split(usable_data, [int(len(usable_data)*0.8), int(len(usable_data)*0.9)])\n",
    "\n",
    "print(len(usable_train), len(usable_test), len(usable_val)) # sanity test"
   ]
  },
  {
   "cell_type": "code",
   "execution_count": 6,
   "id": "b7765697",
   "metadata": {},
   "outputs": [],
   "source": [
    "# we have usable_train, a list that contains dictionaries for each image\n",
    "# {image_id1 : {'chinese' : [[poligon 1], [poligon2]], 'non_chinese' : [[poligon 1], [poligon2]]}, image_id2 : {'chinese' : [pol1], [pol2], [pol3]], 'non_chinese': []...}...}\n",
    "# We will have all the polygons of every image, the ones that contain chinese characters and the ones that don't\n",
    "\n",
    "def get_chinese(some_usable):\n",
    "    chinese_im = {}\n",
    "    \n",
    "    for image in some_usable:\n",
    "        chinese_im[image['image_id']] = {'chinese' : [], 'non_chinese' : []}\n",
    "        for anno in image['annotations']:\n",
    "            for a in anno:\n",
    "                if a['is_chinese']:\n",
    "                    chinese_im[image['image_id']]['chinese'].append(a['polygon'])\n",
    "                else:\n",
    "                    chinese_im[image['image_id']]['non_chinese'].append(a['polygon'])\n",
    "    return chinese_im"
   ]
  },
  {
   "cell_type": "code",
   "execution_count": 7,
   "id": "8e63e1d1",
   "metadata": {},
   "outputs": [],
   "source": [
    "chi_train = get_chinese(usable_train)\n",
    "chi_test = get_chinese(usable_test)\n",
    "chi_val = get_chinese(usable_val)\n",
    "\n",
    "train_im_names = list(chi_train.keys())\n",
    "test_im_names = list(chi_test.keys())\n",
    "val_im_names = list(chi_val.keys())"
   ]
  },
  {
   "cell_type": "code",
   "execution_count": 16,
   "id": "5068f88b",
   "metadata": {},
   "outputs": [
    {
     "name": "stdout",
     "output_type": "stream",
     "text": [
      "torch.Size([4194304])\n"
     ]
    },
    {
     "data": {
      "text/plain": [
       "tensor([0., 0., 0.,  ..., 0., 0., 0.])"
      ]
     },
     "execution_count": 16,
     "metadata": {},
     "output_type": "execute_result"
    }
   ],
   "source": [
    "# getting the gold values for just one image\n",
    "\n",
    "# making an empty grid\n",
    "grid = np.array([[[a,b] for b in list(range(2048))] for a in list(range(2048))])\n",
    "grid.shape = (2048*2048, 2)\n",
    "\n",
    "# taking all polygons of 1 image\n",
    "pols = []\n",
    "for pol in chi_train['1000193']['chinese']:\n",
    "    pols.append(pol)\n",
    "\n",
    "# getting the path for each polygon and updating the grid\n",
    "\n",
    "zeros = np.zeros(2048*2048)\n",
    "for pol in pols:\n",
    "    pol_path = mplpath.Path(pol)\n",
    "    truthvals = pol_path.contains_points(grid)\n",
    "    # turning it into 0s and 1s    \n",
    "    truthvals = np.asarray(truthvals, int)\n",
    "    # updating\n",
    "#     zeros = zeros + truthvals\n",
    "    zeros = np.maximum(truthvals, zeros)\n",
    "\n",
    "# this is inefficient af but it works so I need to look for a better solution\n",
    "# bool_arr = np.array(zeros, dtype=bool)\n",
    "# canviem = np.asarray(bool_arr, int)\n",
    "\n",
    "# checking that there are no pixels with a value different than 1 or 0\n",
    "# n = 0\n",
    "# for e in zeros:\n",
    "#     if e == 1:\n",
    "#         n+=1\n",
    "# #     elif e >= 1:\n",
    "# #         print('oops', e)\n",
    "# print(n)\n",
    "\n",
    "# zeros.shape = (2048, 2048)\n",
    "# canviem.shape = (2048, 2048)\n",
    "\n",
    "ten = torch.Tensor(zeros)\n",
    "print(ten.size())\n",
    "ten\n",
    "# canviem"
   ]
  },
  {
   "cell_type": "code",
   "execution_count": 12,
   "id": "f64e3b9c",
   "metadata": {},
   "outputs": [
    {
     "data": {
      "image/png": "[encoded data removed]",
      "text/plain": [
       "<Figure size 432x288 with 2 Axes>"
      ]
     },
     "metadata": {
      "needs_background": "light"
     },
     "output_type": "display_data"
    }
   ],
   "source": [
    "import matplotlib.pyplot as plt\n",
    "from matplotlib.colors import ListedColormap\n",
    "\n",
    "# Random matrix\n",
    "\n",
    "data_ones = np.random.randint(1, 2, size=(8, 8))\n",
    "# data_both = np.random.randint(0, 2, size=(8, 8))\n",
    "\n",
    "# Define colormap\n",
    "\n",
    "cmapmine = ListedColormap(['w', 'b'], N=2)\n",
    "\n",
    "# Plot matrix\n",
    "\n",
    "fig, (ax1, ax2) = plt.subplots(1, 2)\n",
    "ax1.imshow(data_ones, cmap=cmapmine, vmin=0, vmax=1)\n",
    "ax1.set_title('Ones')\n",
    "ax2.imshow(zeros, cmap=cmapmine, vmin=0, vmax=1)\n",
    "ax2.set_title('Zeros and Ones')\n",
    "plt.show()"
   ]
  },
  {
   "cell_type": "code",
   "execution_count": 11,
   "id": "e49564a5",
   "metadata": {},
   "outputs": [],
   "source": [
    "def loadImages1(path, train_names, test_names, val_names):\n",
    "    imagesList = listdir(path)\n",
    "    \n",
    "    loadedImages_train = []\n",
    "    loadedImages_test = []\n",
    "    loadedImages_val = []\n",
    "    \n",
    "    for image in imagesList:\n",
    "        img = Image.open(path + \"/\" + image)\n",
    "        if image[:-4] in train_names:\n",
    "            loadedImages_train.append(img)\n",
    "        elif image[:-4] in test_names:\n",
    "            loadedImages_test.append(img)\n",
    "        elif image[:-4] in val_names:\n",
    "            loadedImages_val.append(img)\n",
    "\n",
    "    return loadedImages_train, loadedImages_test, loadedImages_val"
   ]
  },
  {
   "cell_type": "code",
   "execution_count": null,
   "id": "7fa945a0",
   "metadata": {},
   "outputs": [],
   "source": [
    "loadedIm1 = loadImages(path, train_im_names, test_im_names, val_im_names) # OSError: [Errno 24] Too many open files: '/scratch/lt2326-h21/a1/images'"
   ]
  },
  {
   "cell_type": "code",
   "execution_count": 117,
   "id": "cd2b982b",
   "metadata": {},
   "outputs": [
    {
     "data": {
      "text/plain": [
       "676"
      ]
     },
     "execution_count": 117,
     "metadata": {},
     "output_type": "execute_result"
    }
   ],
   "source": [
    "trainImages, testImages, valImages = loadedIm1\n",
    "len(trainImages)"
   ]
  },
  {
   "cell_type": "code",
   "execution_count": 118,
   "id": "b064c2f8",
   "metadata": {},
   "outputs": [
    {
     "data": {
      "text/plain": [
       "torch.Size([676, 2048, 2048, 3])"
      ]
     },
     "execution_count": 118,
     "metadata": {},
     "output_type": "execute_result"
    }
   ],
   "source": [
    "def fromImagesToTensors(loadedImages, device):\n",
    "    \n",
    "    tensors = torch.unsqueeze(torch.tensor(np.array(loadedImages[0])), 0)\n",
    "    for im in loadedImages[1:]:\n",
    "        im_numpy = np.array(im)\n",
    "        im_torch = torch.tensor(im_numpy) # size of [2048, 2048, 3]\n",
    "        im_torch_1d = torch.unsqueeze(im_torch, 0)\n",
    "        # im_torch_gpu = im_torch_1d.to(device)\n",
    "        tensors = torch.cat((tensors, im_torch_1d), 0)\n",
    "    \n",
    "    tensors_gpu = tensors.to(device)\n",
    "    return tensors_gpu\n",
    "\n",
    "# fromImagesToTensors(crap, device)\n",
    "\n",
    "gettingTensors = fromImagesToTensors(trainImages, device)\n",
    "gettingTensors.size()"
   ]
  },
  {
   "cell_type": "code",
   "execution_count": 119,
   "id": "6e67aed8",
   "metadata": {},
   "outputs": [
    {
     "data": {
      "text/plain": [
       "tensor([[[[140, 178, 225],\n",
       "          [140, 178, 225],\n",
       "          [140, 178, 225],\n",
       "          ...,\n",
       "          [ 95, 136, 192],\n",
       "          [ 96, 137, 193],\n",
       "          [ 96, 137, 193]],\n",
       "\n",
       "         [[140, 178, 225],\n",
       "          [140, 178, 225],\n",
       "          [140, 178, 225],\n",
       "          ...,\n",
       "          [ 96, 137, 193],\n",
       "          [ 96, 137, 193],\n",
       "          [ 96, 137, 193]],\n",
       "\n",
       "         [[139, 177, 224],\n",
       "          [140, 178, 225],\n",
       "          [140, 178, 225],\n",
       "          ...,\n",
       "          [ 96, 137, 193],\n",
       "          [ 96, 137, 193],\n",
       "          [ 96, 137, 193]],\n",
       "\n",
       "         ...,\n",
       "\n",
       "         [[127, 124, 119],\n",
       "          [125, 122, 117],\n",
       "          [122, 119, 114],\n",
       "          ...,\n",
       "          [105, 106, 101],\n",
       "          [ 92,  93,  88],\n",
       "          [ 76,  77,  72]],\n",
       "\n",
       "         [[146, 143, 136],\n",
       "          [133, 130, 125],\n",
       "          [122, 119, 114],\n",
       "          ...,\n",
       "          [109, 110, 105],\n",
       "          [104, 105, 100],\n",
       "          [ 99, 100,  95]],\n",
       "\n",
       "         [[129, 126, 119],\n",
       "          [119, 116, 109],\n",
       "          [109, 106, 101],\n",
       "          ...,\n",
       "          [112, 113, 108],\n",
       "          [113, 114, 109],\n",
       "          [113, 114, 109]]],\n",
       "\n",
       "\n",
       "        [[[231, 236, 242],\n",
       "          [231, 236, 242],\n",
       "          [231, 236, 242],\n",
       "          ...,\n",
       "          [224, 231, 241],\n",
       "          [224, 231, 241],\n",
       "          [224, 231, 241]],\n",
       "\n",
       "         [[231, 236, 242],\n",
       "          [231, 236, 242],\n",
       "          [231, 236, 242],\n",
       "          ...,\n",
       "          [224, 231, 241],\n",
       "          [224, 231, 241],\n",
       "          [224, 231, 241]],\n",
       "\n",
       "         [[231, 236, 242],\n",
       "          [231, 236, 242],\n",
       "          [231, 236, 242],\n",
       "          ...,\n",
       "          [224, 231, 241],\n",
       "          [224, 231, 241],\n",
       "          [224, 231, 241]],\n",
       "\n",
       "         ...,\n",
       "\n",
       "         [[108, 106, 107],\n",
       "          [108, 106, 107],\n",
       "          [106, 104, 105],\n",
       "          ...,\n",
       "          [100, 101, 103],\n",
       "          [101, 102, 104],\n",
       "          [101, 102, 104]],\n",
       "\n",
       "         [[111, 109, 110],\n",
       "          [109, 107, 108],\n",
       "          [107, 105, 106],\n",
       "          ...,\n",
       "          [ 99, 100, 102],\n",
       "          [100, 101, 103],\n",
       "          [100, 101, 103]],\n",
       "\n",
       "         [[114, 112, 113],\n",
       "          [111, 109, 110],\n",
       "          [110, 108, 109],\n",
       "          ...,\n",
       "          [ 99, 100, 102],\n",
       "          [ 99, 100, 102],\n",
       "          [100, 101, 103]]],\n",
       "\n",
       "\n",
       "        [[[213, 221, 232],\n",
       "          [213, 221, 232],\n",
       "          [213, 221, 232],\n",
       "          ...,\n",
       "          [222, 229, 239],\n",
       "          [222, 229, 239],\n",
       "          [222, 229, 239]],\n",
       "\n",
       "         [[213, 221, 232],\n",
       "          [213, 221, 232],\n",
       "          [213, 221, 232],\n",
       "          ...,\n",
       "          [222, 229, 239],\n",
       "          [222, 229, 239],\n",
       "          [222, 229, 239]],\n",
       "\n",
       "         [[213, 221, 232],\n",
       "          [213, 221, 232],\n",
       "          [213, 221, 232],\n",
       "          ...,\n",
       "          [222, 229, 239],\n",
       "          [222, 229, 239],\n",
       "          [222, 229, 239]],\n",
       "\n",
       "         ...,\n",
       "\n",
       "         [[ 85,  83,  94],\n",
       "          [ 87,  87,  97],\n",
       "          [ 92,  92, 102],\n",
       "          ...,\n",
       "          [ 98,  98, 108],\n",
       "          [ 98,  98, 108],\n",
       "          [ 98,  98, 110]],\n",
       "\n",
       "         [[ 82,  80,  91],\n",
       "          [ 83,  83,  93],\n",
       "          [ 87,  87,  97],\n",
       "          ...,\n",
       "          [101, 101, 111],\n",
       "          [101, 101, 113],\n",
       "          [101, 101, 113]],\n",
       "\n",
       "         [[ 88,  86,  97],\n",
       "          [ 86,  86,  96],\n",
       "          [ 85,  85,  95],\n",
       "          ...,\n",
       "          [103, 103, 115],\n",
       "          [103, 103, 115],\n",
       "          [103, 103, 115]]],\n",
       "\n",
       "\n",
       "        ...,\n",
       "\n",
       "\n",
       "        [[[242, 246, 249],\n",
       "          [242, 246, 249],\n",
       "          [242, 246, 249],\n",
       "          ...,\n",
       "          [148, 191, 236],\n",
       "          [146, 193, 237],\n",
       "          [147, 196, 237]],\n",
       "\n",
       "         [[242, 246, 249],\n",
       "          [242, 246, 249],\n",
       "          [242, 246, 249],\n",
       "          ...,\n",
       "          [155, 195, 244],\n",
       "          [149, 192, 237],\n",
       "          [147, 191, 236]],\n",
       "\n",
       "         [[242, 246, 249],\n",
       "          [242, 246, 249],\n",
       "          [242, 246, 249],\n",
       "          ...,\n",
       "          [155, 193, 242],\n",
       "          [153, 191, 240],\n",
       "          [158, 196, 245]],\n",
       "\n",
       "         ...,\n",
       "\n",
       "         [[186, 183, 174],\n",
       "          [185, 182, 173],\n",
       "          [184, 181, 172],\n",
       "          ...,\n",
       "          [189, 176, 159],\n",
       "          [188, 175, 158],\n",
       "          [188, 175, 158]],\n",
       "\n",
       "         [[185, 182, 173],\n",
       "          [183, 180, 171],\n",
       "          [182, 179, 170],\n",
       "          ...,\n",
       "          [192, 179, 162],\n",
       "          [192, 179, 162],\n",
       "          [193, 180, 163]],\n",
       "\n",
       "         [[181, 178, 169],\n",
       "          [180, 177, 168],\n",
       "          [180, 177, 168],\n",
       "          ...,\n",
       "          [190, 177, 160],\n",
       "          [191, 178, 161],\n",
       "          [193, 180, 163]]],\n",
       "\n",
       "\n",
       "        [[[ 87, 131, 196],\n",
       "          [ 87, 131, 196],\n",
       "          [ 87, 131, 196],\n",
       "          ...,\n",
       "          [ 53, 100, 178],\n",
       "          [ 52,  99, 177],\n",
       "          [ 53,  99, 177]],\n",
       "\n",
       "         [[ 87, 131, 196],\n",
       "          [ 87, 131, 196],\n",
       "          [ 87, 131, 196],\n",
       "          ...,\n",
       "          [ 52,  99, 177],\n",
       "          [ 52,  99, 177],\n",
       "          [ 53, 100, 178]],\n",
       "\n",
       "         [[ 87, 131, 196],\n",
       "          [ 87, 131, 196],\n",
       "          [ 87, 131, 196],\n",
       "          ...,\n",
       "          [ 52, 100, 176],\n",
       "          [ 53, 101, 177],\n",
       "          [ 54, 102, 178]],\n",
       "\n",
       "         ...,\n",
       "\n",
       "         [[132, 132, 124],\n",
       "          [137, 137, 129],\n",
       "          [136, 136, 128],\n",
       "          ...,\n",
       "          [132, 132, 130],\n",
       "          [144, 144, 142],\n",
       "          [151, 151, 149]],\n",
       "\n",
       "         [[126, 126, 118],\n",
       "          [130, 130, 122],\n",
       "          [130, 130, 122],\n",
       "          ...,\n",
       "          [148, 148, 146],\n",
       "          [160, 160, 158],\n",
       "          [165, 165, 163]],\n",
       "\n",
       "         [[122, 122, 114],\n",
       "          [123, 123, 115],\n",
       "          [124, 124, 116],\n",
       "          ...,\n",
       "          [149, 150, 145],\n",
       "          [163, 163, 161],\n",
       "          [167, 167, 165]]],\n",
       "\n",
       "\n",
       "        [[[230, 235, 241],\n",
       "          [230, 234, 243],\n",
       "          [231, 235, 244],\n",
       "          ...,\n",
       "          [141, 164, 198],\n",
       "          [136, 157, 188],\n",
       "          [ 90, 109, 139]],\n",
       "\n",
       "         [[228, 233, 239],\n",
       "          [226, 231, 237],\n",
       "          [225, 229, 238],\n",
       "          ...,\n",
       "          [123, 143, 176],\n",
       "          [113, 133, 160],\n",
       "          [ 83, 100, 126]],\n",
       "\n",
       "         [[225, 230, 234],\n",
       "          [226, 231, 235],\n",
       "          [230, 233, 240],\n",
       "          ...,\n",
       "          [105, 125, 150],\n",
       "          [ 97, 113, 136],\n",
       "          [ 82,  97, 116]],\n",
       "\n",
       "         ...,\n",
       "\n",
       "         [[159, 151, 148],\n",
       "          [157, 149, 146],\n",
       "          [156, 149, 143],\n",
       "          ...,\n",
       "          [120, 109, 103],\n",
       "          [127, 116, 110],\n",
       "          [129, 118, 112]],\n",
       "\n",
       "         [[170, 163, 157],\n",
       "          [167, 160, 154],\n",
       "          [165, 158, 152],\n",
       "          ...,\n",
       "          [108,  97,  91],\n",
       "          [114, 103,  97],\n",
       "          [119, 108, 102]],\n",
       "\n",
       "         [[175, 166, 161],\n",
       "          [176, 167, 162],\n",
       "          [175, 166, 161],\n",
       "          ...,\n",
       "          [104,  93,  87],\n",
       "          [109,  98,  92],\n",
       "          [113, 102,  96]]]], dtype=torch.uint8)"
      ]
     },
     "execution_count": 119,
     "metadata": {},
     "output_type": "execute_result"
    }
   ],
   "source": [
    "# gettingTensors"
   ]
  },
  {
   "cell_type": "code",
   "execution_count": 10,
   "id": "0d1baa76",
   "metadata": {},
   "outputs": [],
   "source": [
    "# working on this again to get smaller images\n",
    "def loadImagesAndTensors(path, train_names, test_names, val_names, device):    \n",
    "    imagesList = listdir(path)\n",
    "    \n",
    "    train_tensors = []\n",
    "    test_tensors = []\n",
    "    val_tensors = []\n",
    "    \n",
    "    for image in imagesList:\n",
    "        # loading the image\n",
    "        fullimg = mpimg.imread(path + \"/\" + image)\n",
    "        img = transform.resize(fullimg, (200,200))\n",
    "        \n",
    "        # making it a tensor\n",
    "        timg = torch.tensor(img).to(device)\n",
    "        timg = timg.float()\n",
    "        \n",
    "        # preparing it for a conv layer\n",
    "        permute = timg.permute((2, 0, 1)).to(device)\n",
    "        unsqueezeme = permute.unsqueeze(0).to(device)\n",
    "        \n",
    "        # separating into train, test and val\n",
    "        if image[:-4] in train_names:\n",
    "            train_tensors.append(unsqueezeme)\n",
    "        elif image[:-4] in test_names:\n",
    "            test_tensors.append(unsqueezeme)\n",
    "        elif image[:-4] in val_names:\n",
    "            val_tensors.append(unsqueezeme)\n",
    "\n",
    "    return train_tensors, test_tensors, val_tensors\n",
    "    "
   ]
  },
  {
   "cell_type": "code",
   "execution_count": 11,
   "id": "1a880a1f",
   "metadata": {},
   "outputs": [],
   "source": [
    "# device = torch.device(\"cpu\")\n",
    "device = torch.device(\"cuda:0\")"
   ]
  },
  {
   "cell_type": "code",
   "execution_count": 12,
   "id": "76f26669",
   "metadata": {},
   "outputs": [],
   "source": [
    "train_tensors, test_tensors, val_tensors = loadImagesAndTensors(path, train_im_names, test_im_names, val_im_names, device)"
   ]
  },
  {
   "cell_type": "code",
   "execution_count": 16,
   "id": "0887e1ff",
   "metadata": {},
   "outputs": [],
   "source": [
    "def goldValuesThatDoesntFuckingWork(chi_data, imgsize, device):\n",
    "    \"\"\"\n",
    "    Creates matrices corresponding to images with 1 values where \n",
    "    there are polygons containing chinese characters and 0 where \n",
    "    there aren't.\n",
    "    \n",
    "    Args:\n",
    "        chi_data: output from get_chinese, a dictionary containing \n",
    "          the name of the images and the points where polygons \n",
    "          containing chinese and non_chinese characters are. \n",
    "          Example: {image_id1 : {'chinese' : [[poligon 1], [poligon2]], '\n",
    "          non_chinese' : [[poligon 1], [poligon2]]}, image_id2 : \n",
    "          {'chinese' : [pol1], [pol2], [pol3]], 'non_chinese': []...}...}\n",
    "        imgsize: size of the input image\n",
    "        \n",
    "    Returns:\n",
    "        a list withthe gold values of the pixels of the image; \n",
    "        matrices with 1 values where there is a chinese character \n",
    "        (inside the polygons) and 0 where there aren't.\n",
    "        \n",
    "    \"\"\"\n",
    "    l = []\n",
    "    \n",
    "    for image in chi_data:\n",
    "        \n",
    "        # taking all polygons of 1 image\n",
    "        pols = []\n",
    "        for pol in chi_data[image]['chinese']:\n",
    "            pols.append(pol)\n",
    "        \n",
    "        # making an empty grid\n",
    "        grid = np.array([[[a,b] for b in list(range(2048))] for a in list(range(2048))])\n",
    "        grid.shape = (imgsize*imgsize, 2)\n",
    "\n",
    "        # getting the path for each polygon and updating a 0 matrix\n",
    "        zeros = np.zeros(imgsize*imgsize)\n",
    "        for pol in pols:\n",
    "            pol_path = mplpath.Path(pol)\n",
    "            truthvals = pol_path.contains_points(grid)\n",
    "            \n",
    "            # turning it into 0s and 1s    \n",
    "            truthvals = np.asarray(truthvals, int)\n",
    "            \n",
    "            # updating\n",
    "            # we take the maximum in case there is the same pixel in different polygons\n",
    "            zeros = np.maximum(truthvals, zeros)\n",
    "\n",
    "        zeros.shape = (imgsize, imgsize)\n",
    "        \n",
    "        ten = torch.Tensor(zeros).to(device)\n",
    "\n",
    "        l.append(ten)\n",
    "    return l"
   ]
  },
  {
   "cell_type": "code",
   "execution_count": 13,
   "id": "40933732",
   "metadata": {},
   "outputs": [],
   "source": [
    "# idea, same as before, but flat 2048*2048\n",
    "def goldValues(chi_data, imgsize):\n",
    "    \"\"\"\n",
    "    Creates matrices corresponding to images with 1 values where \n",
    "    there are polygons containing chinese characters and 0 where \n",
    "    there aren't.\n",
    "    \n",
    "    Args:\n",
    "        chi_data: output from get_chinese, a dictionary containing \n",
    "          the name of the images and the points where polygons \n",
    "          containing chinese and non_chinese characters are. \n",
    "          Example: {image_id1 : {'chinese' : [[poligon 1], [poligon2]], '\n",
    "          non_chinese' : [[poligon 1], [poligon2]]}, image_id2 : \n",
    "          {'chinese' : [pol1], [pol2], [pol3]], 'non_chinese': []...}...}\n",
    "        imgsize: size of the input image\n",
    "        \n",
    "    Returns:\n",
    "        a list withthe gold values of the pixels of the image; \n",
    "        matrices with 1 values where there is a chinese character \n",
    "        (inside the polygons) and 0 where there aren't.\n",
    "        \n",
    "    \"\"\"\n",
    "    l = []\n",
    "    \n",
    "    # making an empty grid\n",
    "    grid = np.array([[[a,b] for b in list(range(imgsize))] for a in list(range(imgsize))])\n",
    "    grid.shape = (imgsize*imgsize, 2)\n",
    "    \n",
    "    for image in chi_data:\n",
    "\n",
    "        # getting the path for each polygon and updating a 0 matrix\n",
    "        zeros = np.zeros(imgsize*imgsize)\n",
    "        \n",
    "        for pol in chi_data[image]['chinese']:\n",
    "            pol_path = mplpath.Path(pol)\n",
    "            truthvals = pol_path.contains_points(grid)\n",
    "            \n",
    "            # turning it into 0s and 1s    \n",
    "            truthvals = np.asarray(truthvals, int)\n",
    "            \n",
    "            # updating\n",
    "            # we take the maximum in case there is the same pixel in different polygons\n",
    "            zeros = np.maximum(truthvals, zeros)\n",
    "        \n",
    "#         ten = torch.Tensor(zeros).to(device)\n",
    "\n",
    "        l.append(zeros)\n",
    "    return torch.FloatTensor(l)"
   ]
  },
  {
   "cell_type": "code",
   "execution_count": 14,
   "id": "ec012adf",
   "metadata": {},
   "outputs": [
    {
     "ename": "AttributeError",
     "evalue": "'list' object has no attribute 'to'",
     "output_type": "error",
     "traceback": [
      "\u001b[0;31m---------------------------------------------------------------------------\u001b[0m",
      "\u001b[0;31mAttributeError\u001b[0m                            Traceback (most recent call last)",
      "\u001b[0;32m/tmp/ipykernel_1481117/3372928115.py\u001b[0m in \u001b[0;36m<module>\u001b[0;34m\u001b[0m\n\u001b[1;32m      1\u001b[0m \u001b[0;31m# device = torch.device(\"cuda:1\")\u001b[0m\u001b[0;34m\u001b[0m\u001b[0;34m\u001b[0m\u001b[0;34m\u001b[0m\u001b[0m\n\u001b[0;32m----> 2\u001b[0;31m \u001b[0mtrain_gold\u001b[0m \u001b[0;34m=\u001b[0m \u001b[0mgoldValues\u001b[0m\u001b[0;34m(\u001b[0m\u001b[0mchi_train\u001b[0m\u001b[0;34m,\u001b[0m \u001b[0;36m2048\u001b[0m\u001b[0;34m,\u001b[0m \u001b[0mdevice\u001b[0m\u001b[0;34m)\u001b[0m\u001b[0;34m.\u001b[0m\u001b[0mto\u001b[0m\u001b[0;34m(\u001b[0m\u001b[0mdevice\u001b[0m\u001b[0;34m)\u001b[0m\u001b[0;34m\u001b[0m\u001b[0;34m\u001b[0m\u001b[0m\n\u001b[0m",
      "\u001b[0;31mAttributeError\u001b[0m: 'list' object has no attribute 'to'"
     ]
    }
   ],
   "source": [
    "# device = torch.device(\"cuda:1\")\n",
    "train_gold = goldValues(chi_train, 2048).to(device)"
   ]
  },
  {
   "cell_type": "code",
   "execution_count": 8,
   "id": "daa26d2b",
   "metadata": {},
   "outputs": [],
   "source": [
    "# just for one image\n",
    "def imageAndTensor(image):  \n",
    "    path = '/scratch/lt2326-h21/a1/images'\n",
    "    \n",
    "    # loading the image\n",
    "    fullimg = mpimg.imread(path + \"/\" + image + \".jpg\")\n",
    "    img = transform.resize(fullimg, (200,200))\n",
    "\n",
    "    # making it a tensor\n",
    "    timg = torch.tensor(img)\n",
    "    timg = timg.float()\n",
    "\n",
    "    # preparing it for a conv layer\n",
    "    permute = timg.permute((2, 0, 1))\n",
    "    # unsqueezeme = permute.unsqueeze(0).to(device)\n",
    "\n",
    "    return permute"
   ]
  },
  {
   "cell_type": "code",
   "execution_count": 9,
   "id": "05639f23",
   "metadata": {},
   "outputs": [],
   "source": [
    "# just one image\n",
    "def ImageGoldValues(chi_data, image):\n",
    "   \n",
    "    # making an empty grid\n",
    "    grid = np.array([[[a,b] for b in list(range(2048))] for a in list(range(2048))])\n",
    "    grid.shape = (2048*2048, 2)\n",
    "\n",
    "    # getting the path for each polygon and updating a 0 matrix\n",
    "    zeros = np.zeros(2048*2048)\n",
    "\n",
    "    for pol in chi_data[image]['chinese']:\n",
    "        pol_path = mplpath.Path(pol)\n",
    "        truthvals = pol_path.contains_points(grid)\n",
    "\n",
    "        # turning it into 0s and 1s    \n",
    "        truthvals = np.asarray(truthvals, int)\n",
    "\n",
    "        # updating\n",
    "        # we take the maximum in case there is the same pixel in different polygons\n",
    "        zeros = np.maximum(truthvals, zeros)\n",
    "\n",
    "    return torch.LongTensor(zeros)"
   ]
  },
  {
   "cell_type": "code",
   "execution_count": 10,
   "id": "545c8f7a",
   "metadata": {},
   "outputs": [],
   "source": [
    "device = torch.device(\"cuda:3\")"
   ]
  },
  {
   "cell_type": "code",
   "execution_count": 11,
   "id": "1d3c917c",
   "metadata": {},
   "outputs": [],
   "source": [
    "def process_images_in_parallel(chi_data, image):\n",
    "    return (imageAndTensor(image), \n",
    "            ImageGoldValues(chi_data, image))"
   ]
  },
  {
   "cell_type": "code",
   "execution_count": 12,
   "id": "bab72533",
   "metadata": {},
   "outputs": [
    {
     "name": "stdout",
     "output_type": "stream",
     "text": [
      "Processing data took 1477.0 seconds\n"
     ]
    }
   ],
   "source": [
    "start = time.time()\n",
    "processed_data = Parallel(n_jobs = 10)(delayed(process_images_in_parallel)(chi_train, image) for image in chi_train)\n",
    "end = time.time()\n",
    "\n",
    "print(\"Processing data took\", round(end-start, 0), \"seconds\")"
   ]
  },
  {
   "cell_type": "code",
   "execution_count": 57,
   "id": "883a12ca",
   "metadata": {},
   "outputs": [
    {
     "data": {
      "text/plain": [
       "torch.Size([4194304])"
      ]
     },
     "execution_count": 57,
     "metadata": {},
     "output_type": "execute_result"
    }
   ],
   "source": [
    "device = torch.device(\"cpu\")\n",
    "qwerty = imageAndTensor('0000566')\n",
    "uiop = ImageGoldValues(chi_train, '0000566')\n",
    "uiop.size()"
   ]
  },
  {
   "cell_type": "markdown",
   "id": "cd6a2893",
   "metadata": {},
   "source": [
    "## Part 2: the models (10 points)\n",
    "\n",
    "In this part, you will implement two substantially different model archictectures, that both take your representation of the images as training input and both take your representation of the bounding boxes as objective (HINT: the binary classification of pixels as belonging to a bounding box or not).  They will save the trained models to files so that they can be loaded and tested later. The output of the models will be a \"soft binary\" -- the probability of each pixel being inside a bounding box, from 0 to 1.  Consider examining some of the training data before designing your architectures.\n",
    "\n",
    "You have a large grant of freedom as to what these model architectures will look like (remember: grading is on a \"reasonable effort\" basis).  There's a high chance (HINT) that they will both use **one or more convolutional layers**, among other things.  Describe the models and the motivations for the architecture in your report."
   ]
  },
  {
   "cell_type": "code",
   "execution_count": 35,
   "id": "54d6cc1b",
   "metadata": {},
   "outputs": [
    {
     "data": {
      "text/plain": [
       "<matplotlib.image.AxesImage at 0x7f84d85717c0>"
      ]
     },
     "execution_count": 35,
     "metadata": {},
     "output_type": "execute_result"
    },
    {
     "data": {
      "image/png": "[encoded data removed]",
      "text/plain": [
       "<Figure size 432x288 with 1 Axes>"
      ]
     },
     "metadata": {
      "needs_background": "light"
     },
     "output_type": "display_data"
    }
   ],
   "source": [
    "# this is just because I want to see an image\n",
    "\n",
    "img = mpimg.imread(\"/scratch/lt2326-h21/a1/images/1000193.jpg\")\n",
    "%matplotlib inline\n",
    "\n",
    "plt.imshow(img)"
   ]
  },
  {
   "cell_type": "code",
   "execution_count": 36,
   "id": "d574cc55",
   "metadata": {},
   "outputs": [
    {
     "data": {
      "text/plain": [
       "<matplotlib.image.AxesImage at 0x7f84d845a1f0>"
      ]
     },
     "execution_count": 36,
     "metadata": {},
     "output_type": "execute_result"
    },
    {
     "data": {
      "image/png": "[encoded data removed]",
      "text/plain": [
       "<Figure size 432x288 with 1 Axes>"
      ]
     },
     "metadata": {
      "needs_background": "light"
     },
     "output_type": "display_data"
    }
   ],
   "source": [
    "imgfull = img\n",
    "img = transform.resize(img, (200,200))\n",
    "plt.imshow(img)"
   ]
  },
  {
   "cell_type": "code",
   "execution_count": 40,
   "id": "ab72a121",
   "metadata": {},
   "outputs": [
    {
     "data": {
      "text/plain": [
       "torch.Size([1, 3, 200, 200])"
      ]
     },
     "execution_count": 40,
     "metadata": {},
     "output_type": "execute_result"
    }
   ],
   "source": [
    "device = torch.device(\"cpu\")\n",
    "# should I change the input and output channels in the convolutional layers?\n",
    "conv1 = nn.Conv2d(3, 3, (3, 3), 1, padding=(1, 1)).to(device)\n",
    "\n",
    "img = transform.resize(img, (200,200))\n",
    "timg = torch.tensor(img).to(device)\n",
    "timg = timg.float()\n",
    "permute = timg.permute((2, 0, 1)).to(device)\n",
    "unsqueezeme = permute.unsqueeze(0).to(device)\n",
    "# unsqueezeme = timg.unsqueeze(0).to(device)\n",
    "\n",
    "trying_conv1 = conv1(unsqueezeme).to(device)\n",
    "trying_conv1.size()"
   ]
  },
  {
   "cell_type": "code",
   "execution_count": 100,
   "id": "06595ead",
   "metadata": {},
   "outputs": [
    {
     "data": {
      "text/plain": [
       "torch.Size([1, 3, 200, 200])"
      ]
     },
     "execution_count": 100,
     "metadata": {},
     "output_type": "execute_result"
    }
   ],
   "source": [
    "unsqueezeme.size()"
   ]
  },
  {
   "cell_type": "code",
   "execution_count": 17,
   "id": "4e947ddd",
   "metadata": {},
   "outputs": [],
   "source": [
    "relu1 = nn.ReLU().to(device)\n",
    "trying_relu1 = relu1(trying_conv1).to(device)"
   ]
  },
  {
   "cell_type": "code",
   "execution_count": 18,
   "id": "c0aaa60c",
   "metadata": {},
   "outputs": [
    {
     "name": "stderr",
     "output_type": "stream",
     "text": [
      "/usr/local/lib64/python3.9/site-packages/torch/nn/functional.py:718: UserWarning: Named tensors and all their associated APIs are an experimental feature and subject to change. Please do not use them for anything important until they are released as stable. (Triggered internally at  /pytorch/c10/core/TensorImpl.h:1156.)\n",
      "  return torch.max_pool2d(input, kernel_size, stride, padding, dilation, ceil_mode)\n"
     ]
    }
   ],
   "source": [
    "pool1 = nn.MaxPool2d(2).to(device)\n",
    "trying_pool1 = pool1(trying_relu1).to(device)"
   ]
  },
  {
   "cell_type": "code",
   "execution_count": 19,
   "id": "c33f7544",
   "metadata": {},
   "outputs": [
    {
     "data": {
      "text/plain": [
       "torch.Size([1, 3, 100, 100])"
      ]
     },
     "execution_count": 19,
     "metadata": {},
     "output_type": "execute_result"
    }
   ],
   "source": [
    "conv2 = nn.Conv2d(3, 3, (3, 3), 1, padding=(1, 1)).to(device)\n",
    "trying_conv2 = conv2(trying_pool1).to(device)\n",
    "trying_conv2.size()"
   ]
  },
  {
   "cell_type": "code",
   "execution_count": 20,
   "id": "602ae98a",
   "metadata": {},
   "outputs": [],
   "source": [
    "relu2 = nn.ReLU().to(device)\n",
    "trying_relu2 = relu2(trying_conv2).to(device)"
   ]
  },
  {
   "cell_type": "code",
   "execution_count": 21,
   "id": "96698366",
   "metadata": {},
   "outputs": [
    {
     "data": {
      "text/plain": [
       "torch.Size([1, 3, 50, 50])"
      ]
     },
     "execution_count": 21,
     "metadata": {},
     "output_type": "execute_result"
    }
   ],
   "source": [
    "pool2 = nn.MaxPool2d(2).to(device)\n",
    "trying_pool2 = pool2(trying_relu2).to(device)\n",
    "trying_pool2.size()"
   ]
  },
  {
   "cell_type": "code",
   "execution_count": 22,
   "id": "aa5d1077",
   "metadata": {},
   "outputs": [
    {
     "data": {
      "text/plain": [
       "torch.Size([2500])"
      ]
     },
     "execution_count": 22,
     "metadata": {},
     "output_type": "execute_result"
    }
   ],
   "source": [
    "# what in features and out features am I supposed to put?\n",
    "flat = trying_pool2.reshape(3*50*50)\n",
    "fc1 = nn.Linear(3*50*50, 1*50*50).to(device)\n",
    "trying_fc1 = fc1(flat).to(device)\n",
    "trying_fc1.size()"
   ]
  },
  {
   "cell_type": "code",
   "execution_count": 23,
   "id": "a3cc8255",
   "metadata": {},
   "outputs": [],
   "source": [
    "relu3 = nn.ReLU().to(device)\n",
    "trying_relu3 = relu3(trying_fc1).to(device)"
   ]
  },
  {
   "cell_type": "code",
   "execution_count": 24,
   "id": "39075616",
   "metadata": {},
   "outputs": [
    {
     "data": {
      "text/plain": [
       "torch.Size([500])"
      ]
     },
     "execution_count": 24,
     "metadata": {},
     "output_type": "execute_result"
    }
   ],
   "source": [
    "fc2 = nn.Linear(50*50, 500).to(device)\n",
    "trying_fc2 = fc2(trying_relu3).to(device)\n",
    "trying_fc2.size()"
   ]
  },
  {
   "cell_type": "code",
   "execution_count": 25,
   "id": "25b14aec",
   "metadata": {},
   "outputs": [],
   "source": [
    "relu4 = nn.ReLU().to(device)\n",
    "trying_relu4 = relu4(trying_fc2).to(device)"
   ]
  },
  {
   "cell_type": "code",
   "execution_count": 26,
   "id": "f9bc0d4c",
   "metadata": {},
   "outputs": [
    {
     "data": {
      "text/plain": [
       "torch.Size([100])"
      ]
     },
     "execution_count": 26,
     "metadata": {},
     "output_type": "execute_result"
    }
   ],
   "source": [
    "fc3 = nn.Linear(500, 100).to(device)\n",
    "trying_fc3 = fc3(trying_relu4).to(device)\n",
    "trying_fc3.size()"
   ]
  },
  {
   "cell_type": "code",
   "execution_count": 27,
   "id": "e8102327",
   "metadata": {},
   "outputs": [],
   "source": [
    "relu5 = nn.ReLU().to(device)\n",
    "trying_relu5 = relu5(trying_fc3).to(device)"
   ]
  },
  {
   "cell_type": "code",
   "execution_count": 28,
   "id": "08eb7f6b",
   "metadata": {},
   "outputs": [
    {
     "data": {
      "text/plain": [
       "tensor([[[0.0000e+00, 0.0000e+00, 4.2076e-02, 9.3034e-03, 1.0418e-02,\n",
       "          0.0000e+00, 0.0000e+00, 3.5258e-02, 0.0000e+00, 7.4245e-03],\n",
       "         [0.0000e+00, 2.6352e-02, 0.0000e+00, 4.9211e-02, 0.0000e+00,\n",
       "          0.0000e+00, 0.0000e+00, 5.9034e-02, 2.4481e-02, 3.2367e-02],\n",
       "         [0.0000e+00, 0.0000e+00, 2.7907e-03, 0.0000e+00, 0.0000e+00,\n",
       "          0.0000e+00, 4.3252e-02, 3.1167e-02, 5.2797e-02, 0.0000e+00],\n",
       "         [4.1062e-02, 0.0000e+00, 0.0000e+00, 5.7870e-03, 1.3970e-02,\n",
       "          4.2238e-02, 2.4881e-03, 0.0000e+00, 0.0000e+00, 0.0000e+00],\n",
       "         [0.0000e+00, 2.3127e-02, 3.8128e-02, 1.6247e-02, 3.4405e-02,\n",
       "          4.0125e-02, 0.0000e+00, 1.5917e-02, 7.6028e-03, 0.0000e+00],\n",
       "         [0.0000e+00, 4.9866e-03, 4.3014e-02, 0.0000e+00, 2.7418e-02,\n",
       "          0.0000e+00, 0.0000e+00, 1.3224e-02, 7.5223e-03, 2.0015e-02],\n",
       "         [2.7199e-02, 1.6925e-02, 2.1584e-03, 9.5901e-03, 0.0000e+00,\n",
       "          1.2051e-02, 0.0000e+00, 0.0000e+00, 1.9223e-03, 0.0000e+00],\n",
       "         [0.0000e+00, 0.0000e+00, 4.5188e-06, 0.0000e+00, 4.4546e-02,\n",
       "          4.3773e-02, 0.0000e+00, 0.0000e+00, 0.0000e+00, 3.6067e-02],\n",
       "         [1.3413e-02, 0.0000e+00, 0.0000e+00, 1.1943e-02, 0.0000e+00,\n",
       "          0.0000e+00, 0.0000e+00, 0.0000e+00, 0.0000e+00, 1.7488e-02],\n",
       "         [2.6725e-02, 5.3478e-02, 0.0000e+00, 4.9656e-02, 0.0000e+00,\n",
       "          3.0434e-02, 5.4053e-02, 0.0000e+00, 0.0000e+00, 0.0000e+00]]],\n",
       "       grad_fn=<PermuteBackward>)"
      ]
     },
     "execution_count": 28,
     "metadata": {},
     "output_type": "execute_result"
    }
   ],
   "source": [
    "stuff = trying_relu5.reshape((10, 10, 1))\n",
    "stuff = stuff.permute((2, 0, 1))\n",
    "stuff"
   ]
  },
  {
   "cell_type": "code",
   "execution_count": 29,
   "id": "fda32c0d",
   "metadata": {},
   "outputs": [
    {
     "data": {
      "text/plain": [
       "torch.Size([1, 10, 10])"
      ]
     },
     "execution_count": 29,
     "metadata": {},
     "output_type": "execute_result"
    }
   ],
   "source": [
    "stuff.size()"
   ]
  },
  {
   "cell_type": "code",
   "execution_count": 30,
   "id": "116fba63",
   "metadata": {},
   "outputs": [],
   "source": [
    "squeezedstuff= stuff.unsqueeze(0).to(device)"
   ]
  },
  {
   "cell_type": "code",
   "execution_count": 31,
   "id": "edfd817a",
   "metadata": {},
   "outputs": [
    {
     "data": {
      "text/plain": [
       "torch.Size([1, 1, 10, 10])"
      ]
     },
     "execution_count": 31,
     "metadata": {},
     "output_type": "execute_result"
    }
   ],
   "source": [
    "squeezedstuff.size()"
   ]
  },
  {
   "cell_type": "code",
   "execution_count": 32,
   "id": "dbdc8a3a",
   "metadata": {},
   "outputs": [
    {
     "data": {
      "text/plain": [
       "torch.Size([1, 1, 2048, 2048])"
      ]
     },
     "execution_count": 32,
     "metadata": {},
     "output_type": "execute_result"
    }
   ],
   "source": [
    "# asterisk or comma in Upsample?\n",
    "makingbig = nn.Upsample((2048,2048)).to(device)\n",
    "bigstuff = makingbig(squeezedstuff).to(device)\n",
    "bigstuff.size()"
   ]
  },
  {
   "cell_type": "code",
   "execution_count": 33,
   "id": "45b32681",
   "metadata": {},
   "outputs": [
    {
     "data": {
      "text/plain": [
       "torch.Size([1, 2048, 2048])"
      ]
     },
     "execution_count": 33,
     "metadata": {},
     "output_type": "execute_result"
    }
   ],
   "source": [
    "bla = bigstuff.squeeze(1)\n",
    "bla.size()"
   ]
  },
  {
   "cell_type": "code",
   "execution_count": 34,
   "id": "93cc467a",
   "metadata": {},
   "outputs": [
    {
     "data": {
      "text/plain": [
       "torch.Size([4194304])"
      ]
     },
     "execution_count": 34,
     "metadata": {},
     "output_type": "execute_result"
    }
   ],
   "source": [
    "# try this\n",
    "finalflat = bla.reshape(2048*2048)\n",
    "finalflat.size()"
   ]
  },
  {
   "cell_type": "code",
   "execution_count": 26,
   "id": "b05e9a40",
   "metadata": {},
   "outputs": [],
   "source": [
    "# The first model will be based in LeNet (1998), because baby steps y'know?\n",
    "# idea: two conv layers and three fully connected layers\n",
    "class FirstModel0(nn.Module):\n",
    "    def __init__(self):\n",
    "        super(FirstModel0, self).__init__()\n",
    "        \n",
    "        self.conv1 = nn.Conv2d(3, 3, (3, 3), 1, padding=(1, 1))\n",
    "        self.relu1 = nn.ReLU()\n",
    "        self.pool1 = nn.MaxPool2d(2)\n",
    "        \n",
    "        self.conv2 = nn.Conv2d(3, 3, (3, 3), 1, padding=(1, 1))\n",
    "        self.relu2 = nn.ReLU()\n",
    "        self.pool2 = nn.MaxPool2d(2)\n",
    "        \n",
    "        self.linear1 = nn.Linear(3*50*50, 1*50*50)\n",
    "        self.relu3 = nn.ReLU()\n",
    "        \n",
    "        self.linear2 =  nn.Linear(50*50, 500)\n",
    "        self.relu4 = nn.ReLU()\n",
    "        \n",
    "        self.linear3 = nn.Linear(500, 100)\n",
    "        self.relu5 = nn.ReLU()\n",
    "        \n",
    "        self.upsampling = nn.Upsample((2048,2048))\n",
    "    \n",
    "    def forward(self, x):\n",
    "        y = self.conv1(x)\n",
    "        y = self.relu1(y)\n",
    "        y = self.pool1(y)\n",
    "        \n",
    "        y = self.conv2(y)\n",
    "        y = self.relu2(y)\n",
    "        y = self.pool2(y)\n",
    "        \n",
    "#         y = y.reshape(3*50*50)\n",
    "        y = y.view(y.shape[0], -1)\n",
    "        \n",
    "        y = self.linear1(y)\n",
    "        y = self.relu3(y)\n",
    "        \n",
    "        y = self.linear2(y)\n",
    "        y = self.relu4(y)\n",
    "        \n",
    "        y = self.linear3(y)\n",
    "        y = self.relu5(y)\n",
    "        \n",
    "        reshaping = y.reshape((10, 10, 1))\n",
    "        reshaping = reshaping.permute((2, 0, 1))\n",
    "        \n",
    "        squeezing= reshaping.unsqueeze(0).to(device)\n",
    "        bigboi = upsampling(squeezing).to(device)\n",
    "        output = bigboi.permute((1, 2, 0))\n",
    "        output = output.reshape(2048*2048)\n",
    "        \n",
    "        return output"
   ]
  },
  {
   "cell_type": "code",
   "execution_count": 69,
   "id": "36c177aa",
   "metadata": {},
   "outputs": [],
   "source": [
    "# The first model will be based in LeNet (1998), because baby steps y'know?\n",
    "# idea: two conv layers and three fully connected layers\n",
    "class FirstModel(nn.Module):\n",
    "    def __init__(self):\n",
    "        super(FirstModel, self).__init__()\n",
    "        \n",
    "        self.conv1 = nn.Conv2d(3, 3, (3, 3), 1, padding=(1, 1))\n",
    "        self.relu1 = nn.ReLU()\n",
    "        self.pool1 = nn.MaxPool2d(2)\n",
    "        \n",
    "        self.conv2 = nn.Conv2d(3, 3, (3, 3), 1, padding=(1, 1))\n",
    "        self.relu2 = nn.ReLU()\n",
    "        self.pool2 = nn.MaxPool2d(2)\n",
    "        \n",
    "        self.linear1 = nn.Linear(3*50*50, 1*50*50)\n",
    "        self.relu3 = nn.ReLU()\n",
    "        \n",
    "        self.linear2 =  nn.Linear(50*50, 500)\n",
    "        self.relu4 = nn.ReLU()\n",
    "        \n",
    "        self.linear3 = nn.Linear(500, 100)\n",
    "        self.relu5 = nn.ReLU()\n",
    "        \n",
    "        self.upsampling = nn.Upsample((2048,2048))\n",
    "    \n",
    "    def forward(self, x):\n",
    "        y = self.conv1(x)\n",
    "        y = self.relu1(y)\n",
    "        y = self.pool1(y)\n",
    "        \n",
    "        y = self.conv2(y)\n",
    "        y = self.relu2(y)\n",
    "        y = self.pool2(y)\n",
    "        \n",
    "#         y = y.reshape(3*50*50)\n",
    "        y = y.view(y.shape[0], -1)\n",
    "        \n",
    "        y = self.linear1(y)\n",
    "        y = self.relu3(y)\n",
    "        \n",
    "        y = self.linear2(y)\n",
    "        y = self.relu4(y)\n",
    "        \n",
    "        y = self.linear3(y)\n",
    "        y = self.relu5(y)\n",
    "        \n",
    "        reshaping = y.reshape((4, 10, 10, 1))\n",
    "        reshaping = reshaping.permute((0, 3, 1, 2)) # [4, 1, 10, 10]\n",
    "        \n",
    "#         squeezing= reshaping.unsqueeze(0).to(device)\n",
    "#         bigboi = self.upsampling(squeezing).to(device)\n",
    "        bigboi = self.upsampling(reshaping) # [4, 1, 2048, 2048]?\n",
    "        output = bigboi.permute((0, 2, 3, 1)) #[4, 2048, 2048, 1]?\n",
    "        output = output.reshape(4, 2048*2048)\n",
    "        \n",
    "        return output"
   ]
  },
  {
   "cell_type": "code",
   "execution_count": 14,
   "id": "341e92bc",
   "metadata": {},
   "outputs": [],
   "source": [
    "device = torch.device(\"cuda:3\")"
   ]
  },
  {
   "cell_type": "code",
   "execution_count": 70,
   "id": "f319e208",
   "metadata": {},
   "outputs": [],
   "source": [
    "firstmodel = FirstModel().to(device)"
   ]
  },
  {
   "cell_type": "code",
   "execution_count": 40,
   "id": "c304dce9",
   "metadata": {},
   "outputs": [],
   "source": [
    "firstmodel0 = FirstModel0().to(device)"
   ]
  },
  {
   "cell_type": "code",
   "execution_count": 16,
   "id": "f3773235",
   "metadata": {},
   "outputs": [],
   "source": [
    "# hyperparameters\n",
    "device = torch.device('cuda:3')\n",
    "\n",
    "batch_size = 4\n",
    "learning_rate = 0.001\n",
    "epochs = 5"
   ]
  },
  {
   "cell_type": "code",
   "execution_count": 17,
   "id": "67988859",
   "metadata": {},
   "outputs": [],
   "source": [
    "train_dataloader = DataLoader(processed_data, batch_size=batch_size, shuffle=True)"
   ]
  },
  {
   "cell_type": "code",
   "execution_count": 87,
   "id": "626dbb24",
   "metadata": {},
   "outputs": [],
   "source": [
    "def train(model, train_dataloader, device):\n",
    "    loss = nn.CrossEntropyLoss()\n",
    "#     loss = nn.LogSoftmax()\n",
    "    optimizer = optim.Adam(FirstModel().parameters(), lr=learning_rate)\n",
    "    \n",
    "    model.train()\n",
    "\n",
    "    for e in range(epochs):\n",
    "        epoch_loss = 0\n",
    "        \n",
    "        for i, (tensors, matrix) in enumerate(train_dataloader):\n",
    "            tensors = tensors.to(device)\n",
    "            matrix = matrix.long().to(device)\n",
    "\n",
    "            output = model(tensors)\n",
    "            print(output.size())\n",
    "            print(matrix.size())\n",
    "            \n",
    "            batch_loss = loss(output, matrix)\n",
    "            epoch_loss += batch_loss.item()\n",
    "            \n",
    "            print(epoch_loss/(i+1), end='\\r')\n",
    "            \n",
    "            batch_loss.backward()\n",
    "            \n",
    "            optimizer.step()\n",
    "            \n",
    "            optimizer.zero_grad()\n",
    "        \n",
    "        print()\n",
    "        \n",
    "    return model"
   ]
  },
  {
   "cell_type": "code",
   "execution_count": 89,
   "id": "85e6a5ba",
   "metadata": {
    "scrolled": false
   },
   "outputs": [
    {
     "name": "stdout",
     "output_type": "stream",
     "text": [
      "torch.Size([4, 4194304])\n",
      "torch.Size([4, 4194304])\n"
     ]
    },
    {
     "ename": "RuntimeError",
     "evalue": "multi-target not supported at /pytorch/aten/src/THCUNN/generic/ClassNLLCriterion.cu:15",
     "output_type": "error",
     "traceback": [
      "\u001b[0;31m---------------------------------------------------------------------------\u001b[0m",
      "\u001b[0;31mRuntimeError\u001b[0m                              Traceback (most recent call last)",
      "\u001b[0;32m/tmp/ipykernel_1534288/2039369126.py\u001b[0m in \u001b[0;36m<module>\u001b[0;34m\u001b[0m\n\u001b[0;32m----> 1\u001b[0;31m \u001b[0mm1\u001b[0m \u001b[0;34m=\u001b[0m \u001b[0mtrain\u001b[0m\u001b[0;34m(\u001b[0m\u001b[0mfirstmodel\u001b[0m\u001b[0;34m,\u001b[0m \u001b[0mtrain_dataloader\u001b[0m\u001b[0;34m,\u001b[0m \u001b[0mdevice\u001b[0m\u001b[0;34m)\u001b[0m\u001b[0;34m\u001b[0m\u001b[0;34m\u001b[0m\u001b[0m\n\u001b[0m",
      "\u001b[0;32m/tmp/ipykernel_1534288/90387397.py\u001b[0m in \u001b[0;36mtrain\u001b[0;34m(model, train_dataloader, device)\u001b[0m\n\u001b[1;32m     17\u001b[0m             \u001b[0mprint\u001b[0m\u001b[0;34m(\u001b[0m\u001b[0mmatrix\u001b[0m\u001b[0;34m.\u001b[0m\u001b[0msize\u001b[0m\u001b[0;34m(\u001b[0m\u001b[0;34m)\u001b[0m\u001b[0;34m)\u001b[0m\u001b[0;34m\u001b[0m\u001b[0;34m\u001b[0m\u001b[0m\n\u001b[1;32m     18\u001b[0m \u001b[0;34m\u001b[0m\u001b[0m\n\u001b[0;32m---> 19\u001b[0;31m             \u001b[0mbatch_loss\u001b[0m \u001b[0;34m=\u001b[0m \u001b[0mloss\u001b[0m\u001b[0;34m(\u001b[0m\u001b[0moutput\u001b[0m\u001b[0;34m,\u001b[0m \u001b[0mmatrix\u001b[0m\u001b[0;34m)\u001b[0m\u001b[0;34m\u001b[0m\u001b[0;34m\u001b[0m\u001b[0m\n\u001b[0m\u001b[1;32m     20\u001b[0m             \u001b[0mepoch_loss\u001b[0m \u001b[0;34m+=\u001b[0m \u001b[0mbatch_loss\u001b[0m\u001b[0;34m.\u001b[0m\u001b[0mitem\u001b[0m\u001b[0;34m(\u001b[0m\u001b[0;34m)\u001b[0m\u001b[0;34m\u001b[0m\u001b[0;34m\u001b[0m\u001b[0m\n\u001b[1;32m     21\u001b[0m \u001b[0;34m\u001b[0m\u001b[0m\n",
      "\u001b[0;32m/usr/local/lib64/python3.9/site-packages/torch/nn/modules/module.py\u001b[0m in \u001b[0;36m_call_impl\u001b[0;34m(self, *input, **kwargs)\u001b[0m\n\u001b[1;32m   1049\u001b[0m         if not (self._backward_hooks or self._forward_hooks or self._forward_pre_hooks or _global_backward_hooks\n\u001b[1;32m   1050\u001b[0m                 or _global_forward_hooks or _global_forward_pre_hooks):\n\u001b[0;32m-> 1051\u001b[0;31m             \u001b[0;32mreturn\u001b[0m \u001b[0mforward_call\u001b[0m\u001b[0;34m(\u001b[0m\u001b[0;34m*\u001b[0m\u001b[0minput\u001b[0m\u001b[0;34m,\u001b[0m \u001b[0;34m**\u001b[0m\u001b[0mkwargs\u001b[0m\u001b[0;34m)\u001b[0m\u001b[0;34m\u001b[0m\u001b[0;34m\u001b[0m\u001b[0m\n\u001b[0m\u001b[1;32m   1052\u001b[0m         \u001b[0;31m# Do not call functions when jit is used\u001b[0m\u001b[0;34m\u001b[0m\u001b[0;34m\u001b[0m\u001b[0;34m\u001b[0m\u001b[0m\n\u001b[1;32m   1053\u001b[0m         \u001b[0mfull_backward_hooks\u001b[0m\u001b[0;34m,\u001b[0m \u001b[0mnon_full_backward_hooks\u001b[0m \u001b[0;34m=\u001b[0m \u001b[0;34m[\u001b[0m\u001b[0;34m]\u001b[0m\u001b[0;34m,\u001b[0m \u001b[0;34m[\u001b[0m\u001b[0;34m]\u001b[0m\u001b[0;34m\u001b[0m\u001b[0;34m\u001b[0m\u001b[0m\n",
      "\u001b[0;32m/usr/local/lib64/python3.9/site-packages/torch/nn/modules/loss.py\u001b[0m in \u001b[0;36mforward\u001b[0;34m(self, input, target)\u001b[0m\n\u001b[1;32m   1118\u001b[0m \u001b[0;34m\u001b[0m\u001b[0m\n\u001b[1;32m   1119\u001b[0m     \u001b[0;32mdef\u001b[0m \u001b[0mforward\u001b[0m\u001b[0;34m(\u001b[0m\u001b[0mself\u001b[0m\u001b[0;34m,\u001b[0m \u001b[0minput\u001b[0m\u001b[0;34m:\u001b[0m \u001b[0mTensor\u001b[0m\u001b[0;34m,\u001b[0m \u001b[0mtarget\u001b[0m\u001b[0;34m:\u001b[0m \u001b[0mTensor\u001b[0m\u001b[0;34m)\u001b[0m \u001b[0;34m->\u001b[0m \u001b[0mTensor\u001b[0m\u001b[0;34m:\u001b[0m\u001b[0;34m\u001b[0m\u001b[0;34m\u001b[0m\u001b[0m\n\u001b[0;32m-> 1120\u001b[0;31m         return F.cross_entropy(input, target, weight=self.weight,\n\u001b[0m\u001b[1;32m   1121\u001b[0m                                ignore_index=self.ignore_index, reduction=self.reduction)\n\u001b[1;32m   1122\u001b[0m \u001b[0;34m\u001b[0m\u001b[0m\n",
      "\u001b[0;32m/usr/local/lib64/python3.9/site-packages/torch/nn/functional.py\u001b[0m in \u001b[0;36mcross_entropy\u001b[0;34m(input, target, weight, size_average, ignore_index, reduce, reduction)\u001b[0m\n\u001b[1;32m   2822\u001b[0m     \u001b[0;32mif\u001b[0m \u001b[0msize_average\u001b[0m \u001b[0;32mis\u001b[0m \u001b[0;32mnot\u001b[0m \u001b[0;32mNone\u001b[0m \u001b[0;32mor\u001b[0m \u001b[0mreduce\u001b[0m \u001b[0;32mis\u001b[0m \u001b[0;32mnot\u001b[0m \u001b[0;32mNone\u001b[0m\u001b[0;34m:\u001b[0m\u001b[0;34m\u001b[0m\u001b[0;34m\u001b[0m\u001b[0m\n\u001b[1;32m   2823\u001b[0m         \u001b[0mreduction\u001b[0m \u001b[0;34m=\u001b[0m \u001b[0m_Reduction\u001b[0m\u001b[0;34m.\u001b[0m\u001b[0mlegacy_get_string\u001b[0m\u001b[0;34m(\u001b[0m\u001b[0msize_average\u001b[0m\u001b[0;34m,\u001b[0m \u001b[0mreduce\u001b[0m\u001b[0;34m)\u001b[0m\u001b[0;34m\u001b[0m\u001b[0;34m\u001b[0m\u001b[0m\n\u001b[0;32m-> 2824\u001b[0;31m     \u001b[0;32mreturn\u001b[0m \u001b[0mtorch\u001b[0m\u001b[0;34m.\u001b[0m\u001b[0m_C\u001b[0m\u001b[0;34m.\u001b[0m\u001b[0m_nn\u001b[0m\u001b[0;34m.\u001b[0m\u001b[0mcross_entropy_loss\u001b[0m\u001b[0;34m(\u001b[0m\u001b[0minput\u001b[0m\u001b[0;34m,\u001b[0m \u001b[0mtarget\u001b[0m\u001b[0;34m,\u001b[0m \u001b[0mweight\u001b[0m\u001b[0;34m,\u001b[0m \u001b[0m_Reduction\u001b[0m\u001b[0;34m.\u001b[0m\u001b[0mget_enum\u001b[0m\u001b[0;34m(\u001b[0m\u001b[0mreduction\u001b[0m\u001b[0;34m)\u001b[0m\u001b[0;34m,\u001b[0m \u001b[0mignore_index\u001b[0m\u001b[0;34m)\u001b[0m\u001b[0;34m\u001b[0m\u001b[0;34m\u001b[0m\u001b[0m\n\u001b[0m\u001b[1;32m   2825\u001b[0m \u001b[0;34m\u001b[0m\u001b[0m\n\u001b[1;32m   2826\u001b[0m \u001b[0;34m\u001b[0m\u001b[0m\n",
      "\u001b[0;31mRuntimeError\u001b[0m: multi-target not supported at /pytorch/aten/src/THCUNN/generic/ClassNLLCriterion.cu:15"
     ]
    }
   ],
   "source": [
    "m1 = train(firstmodel, train_dataloader, device)"
   ]
  },
  {
   "cell_type": "code",
   "execution_count": 84,
   "id": "c72565e8",
   "metadata": {},
   "outputs": [
    {
     "data": {
      "text/plain": [
       "2048.0"
      ]
     },
     "execution_count": 84,
     "metadata": {},
     "output_type": "execute_result"
    }
   ],
   "source": [
    "# torch.save(m1, 'firstmodel.pt')\n",
    "# 16777216/4194304\n",
    "67108864/4194304\n",
    "import math\n",
    "math.sqrt(4194304)"
   ]
  },
  {
   "cell_type": "code",
   "execution_count": null,
   "id": "a0ae7ac2",
   "metadata": {},
   "outputs": [],
   "source": [
    "# AlexNet\n",
    "# https://towardsdatascience.com/implementing-alexnet-cnn-architecture-using-tensorflow-2-0-and-keras-2113e090ad98\n",
    "class SecondModel(nn.Module):\n",
    "    def __init__(self):\n",
    "        super(SecondModel, self).__init__()\n",
    "        \n",
    "        self.conv1 = nn.Conv2d(3, 3, (3, 3), 1, padding=(1, 1))\n",
    "        self.batchnorm1 = nn.BatchNorm2d(TODO)\n",
    "        self.pool1 = nn.MaxPool2d(2)\n",
    "        \n",
    "        self.conv2 = nn.Conv2d(3, 3, (3, 3), 1, padding=(1, 1))\n",
    "        self.batchnorm2 = nn.BatchNorm2d(TODO)\n",
    "        self.pool2 = nn.MaxPool2d(2)\n",
    "        \n",
    "        self.conv3 = nn.Conv2d(3, 3, (3, 3), 1, padding=(1, 1))\n",
    "        self.batchnorm3 = nn.BatchNorm2d(TODO)\n",
    "        \n",
    "        self.conv4 = nn.Conv2d(3, 3, (3, 3), 1, padding=(1, 1))\n",
    "        self.batchnorm4 = nn.BatchNorm2d(TODO)\n",
    "        \n",
    "        self.conv5 = nn.Conv2d(3, 3, (3, 3), 1, padding=(1, 1))\n",
    "        self.batchnorm5 = nn.BatchNorm2d(TODO)\n",
    "        \n",
    "        self.pool3 = nn.MaxPool2d(TODO)\n",
    "        \n",
    "        self.linear1 = nn.Linear(TODO)\n",
    "        self.dropout1 = nn.Dropout(p=0.5) # 0.5?\n",
    "        self.relu1 = nn.ReLU()\n",
    "        \n",
    "        self.linear2 =  nn.Linear(TODO)\n",
    "        self.dropout2 = nn.Dropout(p=0.5)\n",
    "        self.relu2 = nn.ReLU()\n",
    "        \n",
    "        self.linear3 = nn.Linear(TODO)\n",
    "#         self.dropout3 = nn.Dropout(p=0.5)\n",
    "        self.softmax = nn.Softmax(dim=TODO)\n",
    "    \n",
    "    def forward(self, x):\n",
    "        \n",
    "        y = self.conv1(x)\n",
    "        y = self.batchnorm1(y)\n",
    "        y = self.pool1(y)\n",
    "        \n",
    "        y = self.conv2(y)\n",
    "        y = self.batchnorm2(y)\n",
    "        y = self.pool2(y)\n",
    "        \n",
    "        y = self.conv3(y)\n",
    "        y = self.batchnorm3(y)\n",
    "        \n",
    "        y = self.conv4(y)\n",
    "        y = self.batchnorm4(y)\n",
    "        \n",
    "        y = self.conv5(y)\n",
    "        y = self.batchnorm5(y)\n",
    "        \n",
    "        y = self.pool3(y)\n",
    "        \n",
    "        y = y.reshape(TODO)\n",
    "        \n",
    "        y = self.linear1(y)\n",
    "        y = self.dropout1(y)\n",
    "        y = self.relu1(y)\n",
    "        \n",
    "        y = self.linear2(y)\n",
    "        y = self.dropout2(y)\n",
    "        y = self.relu2(y)\n",
    "        \n",
    "        y = self.linear3(y)\n",
    "        y = self.softmax(y)\n",
    "        \n",
    "        return y"
   ]
  },
  {
   "cell_type": "code",
   "execution_count": null,
   "id": "af5f887f",
   "metadata": {},
   "outputs": [],
   "source": []
  },
  {
   "cell_type": "markdown",
   "id": "e6737549",
   "metadata": {},
   "source": [
    "don't forget File > Close and Halt to be good citizens 😇"
   ]
  }
 ],
 "metadata": {
  "kernelspec": {
   "display_name": "Python 3 (ipykernel)",
   "language": "python",
   "name": "python3"
  },
  "language_info": {
   "codemirror_mode": {
    "name": "ipython",
    "version": 3
   },
   "file_extension": ".py",
   "mimetype": "text/x-python",
   "name": "python",
   "nbconvert_exporter": "python",
   "pygments_lexer": "ipython3",
   "version": "3.9.6"
  }
 },
 "nbformat": 4,
 "nbformat_minor": 5
}
