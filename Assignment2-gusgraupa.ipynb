{
 "cells": [
  {
   "cell_type": "markdown",
   "metadata": {},
   "source": [
    "                                                                                                            gusgraupa"
   ]
  },
  {
   "cell_type": "markdown",
   "metadata": {},
   "source": [
    "# Assignment 2: More Chinese-language experiments"
   ]
  },
  {
   "cell_type": "markdown",
   "metadata": {},
   "source": [
    "In this assignment, you will work with the Demo 2.1 - Chinese word segmentation on Chinese word segmentation.  The notebook trains a model that is very successful at determining word boundaries in Chinese text, where word boundaries are binary-encoded on a per-character basis with 1 being the first character of a word and 0 being the second character.  The model uses character embeddings and an LSTM to model the word boundaries.  You will copy and modify Demo 2.1's notebook as below and write up in the notebook Markdown what you did and how well it performed.\n",
    "\n",
    "This assignment is due at 23:59 on 2021 November 2.  It has 30 points and 15 bonus points."
   ]
  },
  {
   "cell_type": "markdown",
   "metadata": {},
   "source": [
    "### Loading the data, padding (based on 2.0)"
   ]
  },
  {
   "cell_type": "code",
   "execution_count": 1,
   "metadata": {},
   "outputs": [],
   "source": [
    "import sys\n",
    "import os\n",
    "import numpy as np\n",
    "import torch\n",
    "\n",
    "device = torch.device('cuda:3')"
   ]
  },
  {
   "cell_type": "code",
   "execution_count": 2,
   "metadata": {},
   "outputs": [],
   "source": [
    "import torch.optim as optim\n",
    "import matplotlib.pyplot as plt"
   ]
  },
  {
   "cell_type": "markdown",
   "metadata": {},
   "source": [
    "    We add the <start> as \"ñ\" and <end> token as \"Ö\", and get the targets."
   ]
  },
  {
   "cell_type": "code",
   "execution_count": 3,
   "metadata": {},
   "outputs": [],
   "source": [
    "def read_chinese_data(inputfilename):\n",
    "    # the inputfile is in ud format\n",
    "    # returns a tuple of ([sentence], [collection_labels])\n",
    "    # collection_labels is 1 for the first characters of the word, and 0 for the others\n",
    "    \n",
    "    with open(inputfilename, \"r\") as inputfile:\n",
    "        sentences = []\n",
    "        collection_words = ['ñ']\n",
    "        collection_labels = []\n",
    "        for line in inputfile:\n",
    "            if line[0] == '#':\n",
    "                continue\n",
    "            columns = line.split()\n",
    "            #print(words)\n",
    "            if columns == []:\n",
    "                bla = ''.join(collection_words) + 'Ö'\n",
    "#                 sentences.append(bla)\n",
    "                sentences.append((bla, [1] + collection_labels))\n",
    "                collection_words = []\n",
    "                collection_labels = []\n",
    "                continue\n",
    "            collection_words.append(columns[1])\n",
    "            collection_labels += [1] + ([0] * (len(columns[1]) - 1)) # all but the first words will get a 0 label\n",
    "            \n",
    "    return sentences"
   ]
  },
  {
   "cell_type": "code",
   "execution_count": 4,
   "metadata": {},
   "outputs": [],
   "source": [
    "train_sentences = read_chinese_data('/scratch/lt2316-h20-resources/zh_gsd-ud-train.conllu')"
   ]
  },
  {
   "cell_type": "code",
   "execution_count": 5,
   "metadata": {},
   "outputs": [],
   "source": [
    "test_sentences = read_chinese_data('/scratch/lt2316-h20-resources/zh_gsd-ud-test.conllu')"
   ]
  },
  {
   "cell_type": "code",
   "execution_count": 6,
   "metadata": {},
   "outputs": [],
   "source": [
    "def index_chars(sentences):\n",
    "    # getting an index for each character in the set\n",
    "    megasentence = ''.join(sentences)\n",
    "    char_list = set()\n",
    "    for c in megasentence:\n",
    "        char_list.add(c) # getting all the characters\n",
    "    char_list = [0] + list(char_list) # we add a 0\n",
    "    return char_list, {char_list[x]:x for x in range(len(char_list))}"
   ]
  },
  {
   "cell_type": "code",
   "execution_count": 7,
   "metadata": {},
   "outputs": [],
   "source": [
    "# we did x[0] for x in train_sentences because the first function returns a tuple\n",
    "int_index, char_index = index_chars([x[0] for x in train_sentences + test_sentences])"
   ]
  },
  {
   "cell_type": "code",
   "execution_count": 11,
   "metadata": {},
   "outputs": [],
   "source": [
    "def convert_sentence(sentence, index):\n",
    "    # so everything is indexed as a number \n",
    "    return [index[x] for x in sentence]"
   ]
  },
  {
   "cell_type": "code",
   "execution_count": 12,
   "metadata": {},
   "outputs": [],
   "source": [
    "def pad_lengths(sentences, max_length, padding=0):\n",
    "    # we do padding to get it to the right shape so numpy doesna complain\n",
    "    return [x + ([padding] * (max_length - len(x))) for x in sentences]"
   ]
  },
  {
   "cell_type": "code",
   "execution_count": 13,
   "metadata": {},
   "outputs": [],
   "source": [
    "def create_dataset(x, device=\"cpu\"):\n",
    "    converted = [(convert_sentence(x1[0], char_index), x1[1]) for x1 in x]\n",
    "    X, y = zip(*converted)\n",
    "    # we need to keep track of the actual lengths of the sentences\n",
    "    lengths = [len(x2) for x2 in X]\n",
    "    padded_X = pad_lengths(X, max(lengths)) # padding the sentences\n",
    "    Xt = torch.LongTensor(padded_X).to(device)\n",
    "    padded_y = pad_lengths(y, max(lengths), padding=-1) # padding the labels WITH -1!!\n",
    "    yt = torch.LongTensor(padded_y).to(device)\n",
    "    lengths_t = torch.LongTensor(lengths).to(device)\n",
    "    return Xt, lengths_t, yt"
   ]
  },
  {
   "cell_type": "code",
   "execution_count": 14,
   "metadata": {},
   "outputs": [],
   "source": [
    "# gpu tensor containing input sent, gpu tensor based on lenghts of each sentence, and the -1 padded class labels\n",
    "train_X_tensor, train_lengths_tensor, train_y_tensor = create_dataset(train_sentences, device)\n",
    "test_X_tensor, test_lengths_tensor, test_y_tensor = create_dataset(test_sentences, device)"
   ]
  },
  {
   "cell_type": "markdown",
   "metadata": {},
   "source": [
    "### Packing the sequences for RNN"
   ]
  },
  {
   "cell_type": "code",
   "execution_count": 15,
   "metadata": {},
   "outputs": [],
   "source": [
    "from torch.nn.utils.rnn import pack_padded_sequence, pad_packed_sequence"
   ]
  },
  {
   "cell_type": "markdown",
   "metadata": {},
   "source": [
    "### Batching (based on 1.0, 1.1, 1.2)"
   ]
  },
  {
   "cell_type": "code",
   "execution_count": 16,
   "metadata": {},
   "outputs": [],
   "source": [
    "class Batcher:\n",
    "    def __init__(self, X, lengths, y, device, batch_size=50, max_iter=None):\n",
    "        self.X = X\n",
    "        self.lengths = lengths # We need the lengths to efficiently use the padding.\n",
    "        self.y = y\n",
    "        self.device = device\n",
    "        self.batch_size=batch_size\n",
    "        self.max_iter = max_iter\n",
    "        self.curr_iter = 0\n",
    "        \n",
    "    def __iter__(self):\n",
    "        return self\n",
    "    \n",
    "    def __next__(self):\n",
    "        if self.curr_iter == self.max_iter:\n",
    "            raise StopIteration\n",
    "        permutation = torch.randperm(self.X.size()[0], device=self.device)\n",
    "        permX = self.X[permutation]\n",
    "        permlengths = self.lengths[permutation]\n",
    "        permy = self.y[permutation]\n",
    "        splitX = torch.split(permX, self.batch_size)\n",
    "        splitlengths = torch.split(permlengths, self.batch_size)\n",
    "        splity = torch.split(permy, self.batch_size)\n",
    "        \n",
    "        self.curr_iter += 1\n",
    "        return zip(splitX, splitlengths, splity)"
   ]
  },
  {
   "cell_type": "code",
   "execution_count": 17,
   "metadata": {},
   "outputs": [],
   "source": [
    "b = Batcher(train_X_tensor, train_lengths_tensor, train_y_tensor, device, max_iter=100)"
   ]
  },
  {
   "cell_type": "markdown",
   "metadata": {},
   "source": [
    "### Modeling"
   ]
  },
  {
   "cell_type": "code",
   "execution_count": 18,
   "metadata": {},
   "outputs": [],
   "source": [
    "import torch.nn as nn"
   ]
  },
  {
   "cell_type": "markdown",
   "metadata": {},
   "source": [
    "## Part 0 - Character segmentation\n",
    "From Asad's notebook"
   ]
  },
  {
   "cell_type": "markdown",
   "metadata": {},
   "source": [
    "    All models are trained with 100 epochs."
   ]
  },
  {
   "cell_type": "code",
   "execution_count": 19,
   "metadata": {},
   "outputs": [],
   "source": [
    "class Segmenter0(nn.Module):\n",
    "    def __init__(self, vocab_size, emb_size):\n",
    "        super().__init__()\n",
    "        \n",
    "        # what's the point of this?\n",
    "        self.vocab_size = vocab_size\n",
    "        self.emb_size = emb_size\n",
    "        \n",
    "        self.emb = nn.Embedding(self.vocab_size, self.emb_size, 0)\n",
    "        self.lstm = nn.LSTM(self.emb_size, 150, batch_first=True)\n",
    "        self.sig1 = nn.Sigmoid()\n",
    "        self.lin = nn.Linear(150, 2)\n",
    "        self.softmax = nn.LogSoftmax(2)\n",
    "        \n",
    "    def forward(self, x, lengths):\n",
    "        embs = self.emb(x)\n",
    "        packed = pack_padded_sequence(embs, lengths.to(\"cpu\"), batch_first=True, enforce_sorted=False)\n",
    "        output1, _ = self.lstm(packed)\n",
    "        unpacked, _ = pad_packed_sequence(output1, batch_first=True)\n",
    "        output2 = self.sig1(unpacked)\n",
    "        output3 = self.lin(output2)\n",
    "        return self.softmax(output3)"
   ]
  },
  {
   "cell_type": "code",
   "execution_count": 20,
   "metadata": {},
   "outputs": [],
   "source": [
    "def train0(X, lengths, y, vocab_size, emb_size, batch_size, epochs, device, model=None):\n",
    "    b = Batcher(X, lengths, y, device, batch_size=batch_size, max_iter=epochs)\n",
    "    \n",
    "#     if not model:\n",
    "#         m = Segmenter(vocab_size, emb_size).to(device)\n",
    "#     else:\n",
    "#         m = model\n",
    "\n",
    "    m = Segmenter0(vocab_size, emb_size).to(device)\n",
    "    loss = nn.NLLLoss(ignore_index=-1)\n",
    "    optimizer = optim.Adam(m.parameters(), lr=0.005)\n",
    "    epoch = 0\n",
    "    \n",
    "    loss_plot = []\n",
    "    \n",
    "    for split in b:\n",
    "        tot_loss = 0\n",
    "        for batch in split:\n",
    "            optimizer.zero_grad()\n",
    "            o = m(batch[0], batch[1])\n",
    "            l = loss(o.permute(0,2,1), batch[2][:, :max(batch[1])])\n",
    "            \n",
    "            loss_plot.append(l)\n",
    "            \n",
    "            tot_loss += l\n",
    "            l.backward()\n",
    "            optimizer.step()\n",
    "        print(\"Total loss in epoch {} is {}.\".format(epoch, tot_loss))\n",
    "        epoch += 1\n",
    "    \n",
    "    plt.plot(loss_plot)\n",
    "    \n",
    "    return m"
   ]
  },
  {
   "cell_type": "code",
   "execution_count": 44,
   "metadata": {},
   "outputs": [
    {
     "name": "stdout",
     "output_type": "stream",
     "text": [
      "Total loss in epoch 0 is 33.425968170166016.\n",
      "Total loss in epoch 1 is 17.24395179748535.\n",
      "Total loss in epoch 2 is 11.733686447143555.\n",
      "Total loss in epoch 3 is 8.110830307006836.\n",
      "Total loss in epoch 4 is 5.73553991317749.\n",
      "Total loss in epoch 5 is 4.519376277923584.\n",
      "Total loss in epoch 6 is 3.4346179962158203.\n",
      "Total loss in epoch 7 is 2.6329524517059326.\n",
      "Total loss in epoch 8 is 2.2823922634124756.\n",
      "Total loss in epoch 9 is 1.9920775890350342.\n",
      "Total loss in epoch 10 is 1.801770567893982.\n",
      "Total loss in epoch 11 is 1.6543806791305542.\n",
      "Total loss in epoch 12 is 1.1278927326202393.\n",
      "Total loss in epoch 13 is 0.8453371524810791.\n",
      "Total loss in epoch 14 is 0.6275399923324585.\n",
      "Total loss in epoch 15 is 0.5688338279724121.\n",
      "Total loss in epoch 16 is 0.6711459159851074.\n",
      "Total loss in epoch 17 is 0.9374004006385803.\n",
      "Total loss in epoch 18 is 1.831060528755188.\n",
      "Total loss in epoch 19 is 2.030604124069214.\n",
      "Total loss in epoch 20 is 1.4820802211761475.\n",
      "Total loss in epoch 21 is 0.7925536036491394.\n",
      "Total loss in epoch 22 is 0.4352429211139679.\n",
      "Total loss in epoch 23 is 0.23858897387981415.\n",
      "Total loss in epoch 24 is 0.13397309184074402.\n",
      "Total loss in epoch 25 is 0.08355804532766342.\n",
      "Total loss in epoch 26 is 0.05908537656068802.\n",
      "Total loss in epoch 27 is 0.047804322093725204.\n",
      "Total loss in epoch 28 is 0.040931809693574905.\n",
      "Total loss in epoch 29 is 0.03507089242339134.\n",
      "Total loss in epoch 30 is 0.030928663909435272.\n",
      "Total loss in epoch 31 is 0.027842972427606583.\n",
      "Total loss in epoch 32 is 0.025149879977107048.\n",
      "Total loss in epoch 33 is 0.022862449288368225.\n",
      "Total loss in epoch 34 is 0.021614760160446167.\n",
      "Total loss in epoch 35 is 0.019015848636627197.\n",
      "Total loss in epoch 36 is 0.017674708738923073.\n",
      "Total loss in epoch 37 is 0.016190001741051674.\n",
      "Total loss in epoch 38 is 0.015095395967364311.\n",
      "Total loss in epoch 39 is 0.013955785892903805.\n",
      "Total loss in epoch 40 is 0.013177038170397282.\n",
      "Total loss in epoch 41 is 0.01230625994503498.\n",
      "Total loss in epoch 42 is 0.011566011235117912.\n",
      "Total loss in epoch 43 is 0.010934066027402878.\n",
      "Total loss in epoch 44 is 0.010451718233525753.\n",
      "Total loss in epoch 45 is 0.00966185424476862.\n",
      "Total loss in epoch 46 is 0.009607968851923943.\n",
      "Total loss in epoch 47 is 0.008936960250139236.\n",
      "Total loss in epoch 48 is 0.008497648872435093.\n",
      "Total loss in epoch 49 is 0.007990292273461819.\n",
      "Total loss in epoch 50 is 0.008010029792785645.\n",
      "Total loss in epoch 51 is 0.0074370973743498325.\n",
      "Total loss in epoch 52 is 0.007057747803628445.\n",
      "Total loss in epoch 53 is 0.00675890501588583.\n",
      "Total loss in epoch 54 is 0.0067123426124453545.\n",
      "Total loss in epoch 55 is 0.006298108492046595.\n",
      "Total loss in epoch 56 is 0.0062232231721282005.\n",
      "Total loss in epoch 57 is 0.0060216947458684444.\n",
      "Total loss in epoch 58 is 0.005867406725883484.\n",
      "Total loss in epoch 59 is 0.005509942304342985.\n",
      "Total loss in epoch 60 is 0.005474867299199104.\n",
      "Total loss in epoch 61 is 0.005031357519328594.\n",
      "Total loss in epoch 62 is 0.004995916038751602.\n",
      "Total loss in epoch 63 is 0.004768237937241793.\n",
      "Total loss in epoch 64 is 0.004802551586180925.\n",
      "Total loss in epoch 65 is 0.004456812981516123.\n",
      "Total loss in epoch 66 is 0.004511542152613401.\n",
      "Total loss in epoch 67 is 0.004530006553977728.\n",
      "Total loss in epoch 68 is 0.004211680497974157.\n",
      "Total loss in epoch 69 is 0.004131417255848646.\n",
      "Total loss in epoch 70 is 0.00402514822781086.\n",
      "Total loss in epoch 71 is 0.0040790848433971405.\n",
      "Total loss in epoch 72 is 0.0038721910677850246.\n",
      "Total loss in epoch 73 is 0.0039244163781404495.\n",
      "Total loss in epoch 74 is 0.003770019393414259.\n",
      "Total loss in epoch 75 is 0.003607915248721838.\n",
      "Total loss in epoch 76 is 0.0036669455002993345.\n",
      "Total loss in epoch 77 is 0.003567712614312768.\n",
      "Total loss in epoch 78 is 0.003722312394529581.\n",
      "Total loss in epoch 79 is 0.003464275738224387.\n",
      "Total loss in epoch 80 is 0.003982649650424719.\n",
      "Total loss in epoch 81 is 0.0034717742819339037.\n",
      "Total loss in epoch 82 is 0.0034175473265349865.\n",
      "Total loss in epoch 83 is 0.0033121139276772738.\n",
      "Total loss in epoch 84 is 0.0032548767048865557.\n",
      "Total loss in epoch 85 is 0.0032945824787020683.\n",
      "Total loss in epoch 86 is 0.0032196366228163242.\n",
      "Total loss in epoch 87 is 0.003401915542781353.\n",
      "Total loss in epoch 88 is 0.003496830817312002.\n",
      "Total loss in epoch 89 is 0.003060061251744628.\n",
      "Total loss in epoch 90 is 0.003682667389512062.\n",
      "Total loss in epoch 91 is 6.954837799072266.\n",
      "Total loss in epoch 92 is 9.187979698181152.\n",
      "Total loss in epoch 93 is 4.592923164367676.\n",
      "Total loss in epoch 94 is 2.5609331130981445.\n",
      "Total loss in epoch 95 is 1.4270330667495728.\n",
      "Total loss in epoch 96 is 0.821814775466919.\n",
      "Total loss in epoch 97 is 0.49022310972213745.\n",
      "Total loss in epoch 98 is 0.3180084228515625.\n",
      "Total loss in epoch 99 is 0.21441411972045898.\n"
     ]
    },
    {
     "data": {
      "image/png": "[encoded data removed]",
      "text/plain": [
       "<Figure size 432x288 with 1 Axes>"
      ]
     },
     "metadata": {
      "needs_background": "light"
     },
     "output_type": "display_data"
    }
   ],
   "source": [
    "model0 = train0(train_X_tensor, train_lengths_tensor, train_y_tensor, len(int_index), 200, 50, 100, device)"
   ]
  },
  {
   "cell_type": "code",
   "execution_count": 47,
   "metadata": {},
   "outputs": [
    {
     "data": {
      "text/plain": [
       "Segmenter0(\n",
       "  (emb): Embedding(3650, 200, padding_idx=0)\n",
       "  (lstm): LSTM(200, 150, batch_first=True)\n",
       "  (sig1): Sigmoid()\n",
       "  (lin): Linear(in_features=150, out_features=2, bias=True)\n",
       "  (softmax): LogSoftmax(dim=2)\n",
       ")"
      ]
     },
     "execution_count": 47,
     "metadata": {},
     "output_type": "execute_result"
    }
   ],
   "source": [
    "model0.to(device)"
   ]
  },
  {
   "cell_type": "markdown",
   "metadata": {},
   "source": [
    "## Part 1 - Sentence generation (15 points).\n",
    "\n",
    "Convert the model in Demo 2.1 into a character-based sentence generator. (Strip out the word segmentation objective.)  The model should, given a start symbol, produce a variety of sentences that terminate with a stop symbol (you will have to add these to the data).  The sentences that it generates should be of reasonable average length compared to the sentences in the training corpus (this needn't be precise). "
   ]
  },
  {
   "cell_type": "markdown",
   "metadata": {},
   "source": [
    "    I changed the size of the output of the linear layer to be the size of the vocabulary, to get the probability for each character of the vocabulary.\n",
    "    I removed the sigmoid function because I was getting many zeros as output."
   ]
  },
  {
   "cell_type": "code",
   "execution_count": 22,
   "metadata": {},
   "outputs": [],
   "source": [
    "class Segmenter1(nn.Module):\n",
    "    def __init__(self, vocab_size, emb_size):\n",
    "        super().__init__()\n",
    "        \n",
    "        self.vocab_size = vocab_size\n",
    "        self.emb_size = emb_size\n",
    "        \n",
    "        self.emb = nn.Embedding(self.vocab_size, self.emb_size, 0)\n",
    "        self.lstm = nn.LSTM(self.emb_size, 150, batch_first=True)\n",
    "#         self.sig1 = nn.Sigmoid()\n",
    "        self.lin = nn.Linear(150, self.vocab_size)\n",
    "        self.softmax = nn.LogSoftmax(2)\n",
    "        \n",
    "    def forward(self, x, lengths):\n",
    "        embs = self.emb(x)\n",
    "        packed = pack_padded_sequence(embs, lengths.to(\"cpu\"), batch_first=True, enforce_sorted=False)\n",
    "        output1, _ = self.lstm(packed)\n",
    "        unpacked, _ = pad_packed_sequence(output1, batch_first=True)\n",
    "#         output2 = self.sig1(unpacked)\n",
    "#         output3 = self.lin(output2)\n",
    "        output3 = self.lin(unpacked)\n",
    "        output4 = self.softmax(output3)\n",
    "        \n",
    "        return output4"
   ]
  },
  {
   "cell_type": "markdown",
   "metadata": {},
   "source": [
    "    In the loss, we :\n",
    "    - get rid of the last element of the second dimension of the output of the model, which would be the end token\n",
    "    - remove the first element of the second dimension of the target of the model, because it is the start token"
   ]
  },
  {
   "cell_type": "code",
   "execution_count": 23,
   "metadata": {},
   "outputs": [],
   "source": [
    "def train1(X, lengths, y, vocab_size, emb_size, batch_size, epochs, device, model=None):\n",
    "    b = Batcher(X, lengths, y, device, batch_size=batch_size, max_iter=epochs)\n",
    "    \n",
    "#     if not model:\n",
    "#         m = Segmenter(vocab_size, emb_size).to(device)\n",
    "#     else:\n",
    "#         m = model\n",
    "    m = Segmenter1(vocab_size, emb_size).to(device)\n",
    "    loss = nn.NLLLoss(ignore_index=-1)\n",
    "    optimizer = optim.Adam(m.parameters(), lr=0.005)\n",
    "    epoch = 0\n",
    "    \n",
    "    lengths = []\n",
    "    loss_plot = []\n",
    "    \n",
    "    for split in b:\n",
    "        tot_loss = 0\n",
    "        for batch in split:\n",
    "            optimizer.zero_grad()\n",
    "            \n",
    "            lengths.append(batch[1])\n",
    "            \n",
    "            o = m(batch[0], batch[1]) # batch[1] is the length of the sentences\n",
    "\n",
    "            l = loss(o[:, :-1, :].permute(0,2,1), batch[0][:, 1:max(batch[1])])\n",
    "            \n",
    "            loss_plot.append(l)\n",
    "            \n",
    "            tot_loss += l\n",
    "            l.backward()\n",
    "            optimizer.step()\n",
    "        print(\"Total loss in epoch {} is {}.\".format(epoch, tot_loss))\n",
    "        epoch += 1\n",
    "        \n",
    "    plt.plot(loss_plot)\n",
    "    \n",
    "#     perplexity  = torch.exp(tot_loss)\n",
    "    \n",
    "#     print('perplexity:', perplexity.item())\n",
    "    \n",
    "    return m, lengths"
   ]
  },
  {
   "cell_type": "code",
   "execution_count": 45,
   "metadata": {
    "scrolled": true
   },
   "outputs": [
    {
     "name": "stdout",
     "output_type": "stream",
     "text": [
      "Total loss in epoch 0 is 571.1435546875.\n",
      "Total loss in epoch 1 is 506.4555358886719.\n",
      "Total loss in epoch 2 is 459.3341369628906.\n",
      "Total loss in epoch 3 is 415.0297546386719.\n",
      "Total loss in epoch 4 is 372.6875915527344.\n",
      "Total loss in epoch 5 is 331.84820556640625.\n",
      "Total loss in epoch 6 is 292.5474853515625.\n",
      "Total loss in epoch 7 is 254.5089874267578.\n",
      "Total loss in epoch 8 is 219.49356079101562.\n",
      "Total loss in epoch 9 is 187.9837188720703.\n",
      "Total loss in epoch 10 is 161.32431030273438.\n",
      "Total loss in epoch 11 is 141.4477996826172.\n",
      "Total loss in epoch 12 is 126.2373275756836.\n",
      "Total loss in epoch 13 is 112.74423217773438.\n",
      "Total loss in epoch 14 is 103.81791687011719.\n",
      "Total loss in epoch 15 is 98.4115982055664.\n",
      "Total loss in epoch 16 is 93.44049835205078.\n",
      "Total loss in epoch 17 is 87.68924713134766.\n",
      "Total loss in epoch 18 is 82.98928833007812.\n",
      "Total loss in epoch 19 is 83.2125473022461.\n",
      "Total loss in epoch 20 is 78.27418518066406.\n",
      "Total loss in epoch 21 is 75.6357421875.\n",
      "Total loss in epoch 22 is 73.21231079101562.\n",
      "Total loss in epoch 23 is 70.89715576171875.\n",
      "Total loss in epoch 24 is 67.58634185791016.\n",
      "Total loss in epoch 25 is 66.42166900634766.\n",
      "Total loss in epoch 26 is 65.94599914550781.\n",
      "Total loss in epoch 27 is 64.1961441040039.\n",
      "Total loss in epoch 28 is 63.79779815673828.\n",
      "Total loss in epoch 29 is 62.001739501953125.\n",
      "Total loss in epoch 30 is 61.14961242675781.\n",
      "Total loss in epoch 31 is 59.329307556152344.\n",
      "Total loss in epoch 32 is 57.3734016418457.\n",
      "Total loss in epoch 33 is 57.880516052246094.\n",
      "Total loss in epoch 34 is 56.3587646484375.\n",
      "Total loss in epoch 35 is 55.64006042480469.\n",
      "Total loss in epoch 36 is 55.474212646484375.\n",
      "Total loss in epoch 37 is 53.9145393371582.\n",
      "Total loss in epoch 38 is 53.31947708129883.\n",
      "Total loss in epoch 39 is 53.15361785888672.\n",
      "Total loss in epoch 40 is 51.67584991455078.\n",
      "Total loss in epoch 41 is 51.0052375793457.\n",
      "Total loss in epoch 42 is 51.00484085083008.\n",
      "Total loss in epoch 43 is 49.91762924194336.\n",
      "Total loss in epoch 44 is 50.104793548583984.\n",
      "Total loss in epoch 45 is 48.79303741455078.\n",
      "Total loss in epoch 46 is 48.456993103027344.\n",
      "Total loss in epoch 47 is 48.78651809692383.\n",
      "Total loss in epoch 48 is 48.43818664550781.\n",
      "Total loss in epoch 49 is 46.115970611572266.\n",
      "Total loss in epoch 50 is 45.27417755126953.\n",
      "Total loss in epoch 51 is 45.002166748046875.\n",
      "Total loss in epoch 52 is 44.99998092651367.\n",
      "Total loss in epoch 53 is 45.71105194091797.\n",
      "Total loss in epoch 54 is 44.91802978515625.\n",
      "Total loss in epoch 55 is 44.565799713134766.\n",
      "Total loss in epoch 56 is 45.66651916503906.\n",
      "Total loss in epoch 57 is 45.38825988769531.\n",
      "Total loss in epoch 58 is 44.08116149902344.\n",
      "Total loss in epoch 59 is 45.795257568359375.\n",
      "Total loss in epoch 60 is 46.645912170410156.\n",
      "Total loss in epoch 61 is 44.63910675048828.\n",
      "Total loss in epoch 62 is 43.45872116088867.\n",
      "Total loss in epoch 63 is 42.237144470214844.\n",
      "Total loss in epoch 64 is 43.1248664855957.\n",
      "Total loss in epoch 65 is 42.24810791015625.\n",
      "Total loss in epoch 66 is 41.87861251831055.\n",
      "Total loss in epoch 67 is 41.39828109741211.\n",
      "Total loss in epoch 68 is 42.66172409057617.\n",
      "Total loss in epoch 69 is 42.25962448120117.\n",
      "Total loss in epoch 70 is 41.884010314941406.\n",
      "Total loss in epoch 71 is 41.408607482910156.\n",
      "Total loss in epoch 72 is 41.28584289550781.\n",
      "Total loss in epoch 73 is 40.80265426635742.\n",
      "Total loss in epoch 74 is 40.54703140258789.\n",
      "Total loss in epoch 75 is 40.723384857177734.\n",
      "Total loss in epoch 76 is 40.70962142944336.\n",
      "Total loss in epoch 77 is 40.47008514404297.\n",
      "Total loss in epoch 78 is 39.89689636230469.\n",
      "Total loss in epoch 79 is 39.86239242553711.\n",
      "Total loss in epoch 80 is 39.04925537109375.\n",
      "Total loss in epoch 81 is 39.620304107666016.\n",
      "Total loss in epoch 82 is 39.63962173461914.\n",
      "Total loss in epoch 83 is 39.15391159057617.\n",
      "Total loss in epoch 84 is 39.652976989746094.\n",
      "Total loss in epoch 85 is 40.11620330810547.\n",
      "Total loss in epoch 86 is 38.88053894042969.\n",
      "Total loss in epoch 87 is 39.32788848876953.\n",
      "Total loss in epoch 88 is 38.746089935302734.\n",
      "Total loss in epoch 89 is 37.912322998046875.\n",
      "Total loss in epoch 90 is 37.98470687866211.\n",
      "Total loss in epoch 91 is 37.28306198120117.\n",
      "Total loss in epoch 92 is 37.49793243408203.\n",
      "Total loss in epoch 93 is 38.212467193603516.\n",
      "Total loss in epoch 94 is 38.58547592163086.\n",
      "Total loss in epoch 95 is 38.94655227661133.\n",
      "Total loss in epoch 96 is 39.998435974121094.\n",
      "Total loss in epoch 97 is 39.947776794433594.\n",
      "Total loss in epoch 98 is 40.428096771240234.\n",
      "Total loss in epoch 99 is 38.9677848815918.\n"
     ]
    },
    {
     "data": {
      "image/png": "[encoded data removed]",
      "text/plain": [
       "<Figure size 432x288 with 1 Axes>"
      ]
     },
     "metadata": {
      "needs_background": "light"
     },
     "output_type": "display_data"
    }
   ],
   "source": [
    "# 200 is emb_size\n",
    "# 50 is batch_size\n",
    "# 30 is number of epochs\n",
    "model1, lengths1 = train1(train_X_tensor, train_lengths_tensor, train_y_tensor, len(int_index), 200, 50, 100, device)"
   ]
  },
  {
   "cell_type": "code",
   "execution_count": 48,
   "metadata": {},
   "outputs": [
    {
     "data": {
      "text/plain": [
       "Segmenter1(\n",
       "  (emb): Embedding(3650, 200, padding_idx=0)\n",
       "  (lstm): LSTM(200, 150, batch_first=True)\n",
       "  (lin): Linear(in_features=150, out_features=3650, bias=True)\n",
       "  (softmax): LogSoftmax(dim=2)\n",
       ")"
      ]
     },
     "execution_count": 48,
     "metadata": {},
     "output_type": "execute_result"
    }
   ],
   "source": [
    "model1.to(device)"
   ]
  },
  {
   "cell_type": "markdown",
   "metadata": {},
   "source": [
    "    The function \"generating\" creates a sentence given the start symbol (ñ) and a random seed (from possible first characters in the train sentences). The length of the sentence is a random choice from the train_sentences length, or shorter if the model produces a stop symbol (Ö)."
   ]
  },
  {
   "cell_type": "code",
   "execution_count": 27,
   "metadata": {},
   "outputs": [],
   "source": [
    "# getting list of possible lengths of sentences\n",
    "l = []\n",
    "for x in lengths1:\n",
    "    l.extend(x.tolist())\n",
    "\n",
    "sentences = train_sentences.extend(test_sentences)\n",
    "# getting the possible seeds of the sentences\n",
    "seeds = []\n",
    "for a, _ in train_sentences:\n",
    "    seeds.extend(a[1])"
   ]
  },
  {
   "cell_type": "code",
   "execution_count": 28,
   "metadata": {},
   "outputs": [],
   "source": [
    "import random\n",
    "\n",
    "def generating(lengths, seeds, char_index, model):\n",
    "    # the index of the start symbol \"ñ\" is 2925\n",
    "    # the index of the end symbol \"Ö\" is 149\n",
    "    \n",
    "    # getting random sentence length\n",
    "    sent_len = torch.tensor(random.choice(lengths)).to(device).unsqueeze(0)\n",
    "    sent_len = sent_len.int().to(device)\n",
    "    \n",
    "    # getting index of random seed\n",
    "    seed = random.choice(seeds)\n",
    "    seed_idx = char_index[seed]\n",
    "\n",
    "    # generating the original tensor\n",
    "    original = torch.zeros(sent_len)\n",
    "    original[0] = char_index['ñ']\n",
    "    original[1] = seed_idx\n",
    "    original = original.long().unsqueeze(0).to(device)\n",
    "    \n",
    "    # passing it through the model\n",
    "    for e in range(int(sent_len)-3):\n",
    "        out = model(original, sent_len)\n",
    "        m = torch.argmax(out, dim=2)\n",
    "#         print(m)\n",
    "        original[0][e+2] = m[0][e+2]\n",
    "        \n",
    "        if m[0][e+2] == char_index['Ö']:\n",
    "            break\n",
    "    \n",
    "    original = original.squeeze(0)\n",
    "    if char_index['Ö'] not in original:\n",
    "        original[int(sent_len)-1] = char_index['Ö']\n",
    "    \n",
    "    inlist = original.tolist()\n",
    "    text = ''\n",
    "    for num in inlist:\n",
    "        char = str(list(char_index.keys())[list(char_index.values()).index(num)])\n",
    "        text += char\n",
    "        if char == 'Ö':\n",
    "            break\n",
    "        \n",
    "    return text"
   ]
  },
  {
   "cell_type": "code",
   "execution_count": 36,
   "metadata": {},
   "outputs": [
    {
     "data": {
      "text/plain": [
       "'ñ據出的力，向進準向軍隊得自出，送會射表將出，手與想，助嚴了毀，任舊政、埔台）。，管確，洛（i直Ö'"
      ]
     },
     "execution_count": 36,
     "metadata": {},
     "output_type": "execute_result"
    }
   ],
   "source": [
    "generating(l, seeds, char_index, model1)"
   ]
  },
  {
   "cell_type": "code",
   "execution_count": 38,
   "metadata": {},
   "outputs": [
    {
     "data": {
      "text/plain": [
       "'ñ國法軍逃，任軍改為。，稱為籤給器的量。。，出Ö'"
      ]
     },
     "execution_count": 38,
     "metadata": {},
     "output_type": "execute_result"
    }
   ],
   "source": [
    "generating(l, seeds, char_index, model1)"
   ]
  },
  {
   "cell_type": "markdown",
   "metadata": {},
   "source": [
    "## Part 2 - Dual objectives (10 points)\n",
    "Copy the notebook from part 1 and augment the copy by adding back the word segmentation objective, as a second objective with its own loss.  (You could also in theory do Part 1 and Part 2 in reverse, by adding sentence generation with dual objectives first and then stripping out the word segmentation objective; this is equivalent.)  \n",
    "Note that multiple losses can be combined by simple, possibly weighted addition -- backpropagation works entirely correctly on the combined loss."
   ]
  },
  {
   "cell_type": "markdown",
   "metadata": {},
   "source": [
    "    From the original model, I added a second linear layer with an output size as the size of the vocabulary. It returns two tensors, one for the segmentation objective and one for the prediction objective."
   ]
  },
  {
   "cell_type": "code",
   "execution_count": 29,
   "metadata": {},
   "outputs": [],
   "source": [
    "class Segmenter(nn.Module):\n",
    "    def __init__(self, vocab_size, emb_size):\n",
    "        super().__init__()\n",
    "        \n",
    "        self.vocab_size = vocab_size\n",
    "        self.emb_size = emb_size\n",
    "        \n",
    "        self.emb = nn.Embedding(self.vocab_size, self.emb_size, 0)\n",
    "        self.lstm = nn.LSTM(self.emb_size, 150, batch_first=True)\n",
    "        self.sig1 = nn.Sigmoid()\n",
    "        self.lin1 = nn.Linear(150, 2)\n",
    "        self.lin2 = nn.Linear(150, self.vocab_size)\n",
    "        self.softmax = nn.LogSoftmax(2)\n",
    "        \n",
    "    def forward(self, x, lengths):\n",
    "        embs = self.emb(x)\n",
    "        packed = pack_padded_sequence(embs, lengths.to(\"cpu\"), batch_first=True, enforce_sorted=False)\n",
    "        output1, _ = self.lstm(packed)\n",
    "        unpacked, _ = pad_packed_sequence(output1, batch_first=True)\n",
    "        output2 = self.sig1(unpacked)\n",
    "        output3_segm = self.lin1(output2)\n",
    "        output3_pred = self.lin2(unpacked) # no sigmoid for text prediction\n",
    "        \n",
    "        return (self.softmax(output3_segm), self.softmax(output3_pred))\n",
    "        "
   ]
  },
  {
   "cell_type": "markdown",
   "metadata": {},
   "source": [
    "    We calculate two losses, one for each objective. "
   ]
  },
  {
   "cell_type": "code",
   "execution_count": 30,
   "metadata": {},
   "outputs": [],
   "source": [
    "def train(X, lengths, y, vocab_size, emb_size, batch_size, epochs, device, model=None):\n",
    "    b = Batcher(X, lengths, y, device, batch_size=batch_size, max_iter=epochs)\n",
    "    \n",
    "#     if not model:\n",
    "#         m = Segmenter(vocab_size, emb_size).to(device)\n",
    "#     else:\n",
    "#         m = model\n",
    "    \n",
    "    m = Segmenter(vocab_size, emb_size).to(device)\n",
    "    loss = nn.NLLLoss(ignore_index=-1)\n",
    "    optimizer = optim.Adam(m.parameters(), lr=0.005)\n",
    "    epoch = 0\n",
    "    \n",
    "    loss_plot1 = []\n",
    "    loss_plot2 = []\n",
    "    loss_summ = []\n",
    "    \n",
    "    lengths = []\n",
    "    \n",
    "    for split in b:\n",
    "        tot_loss = 0\n",
    "        for batch in split:\n",
    "            optimizer.zero_grad()\n",
    "            \n",
    "            lengths.append(batch[1])\n",
    "            \n",
    "            o_segm, o_pred = m(batch[0], batch[1]) # batch[1] is the length of the sentences\n",
    "\n",
    "            l1 = loss(o_segm.permute(0,2,1), batch[2][:, :max(batch[1])])\n",
    "            l2 = loss(o_pred[:, :-1, :].permute(0,2,1), batch[0][:, 1:max(batch[1])])\n",
    "            \n",
    "            loss_plot1.append(l1)\n",
    "            loss_plot2.append(l2)\n",
    "            \n",
    "            superl = l1 + l2\n",
    "            \n",
    "            loss_summ.append(superl)\n",
    "            \n",
    "            tot_loss += superl\n",
    "            \n",
    "            superl.backward()\n",
    "            \n",
    "#             l1.backward(retain_graph=True)\n",
    "#             l2.backward()\n",
    "            \n",
    "            optimizer.step()\n",
    "        print(\"Total loss in epoch {} is {}.\".format(epoch, tot_loss))\n",
    "        epoch += 1\n",
    "    \n",
    "    plt.plot(loss_plot1, label = 'Segmentation loss')\n",
    "    plt.plot(loss_plot2, label = 'Prediction loss')\n",
    "    plt.plot(loss_summ, label = 'Total loss')\n",
    "    plt.legend(loc=\"upper right\")\n",
    "    \n",
    "#     perplexity  = torch.exp(tot_loss)\n",
    "    \n",
    "#     print('perplexity:', perplexity.item())\n",
    "    \n",
    "    return m, lengths"
   ]
  },
  {
   "cell_type": "code",
   "execution_count": 46,
   "metadata": {
    "scrolled": true
   },
   "outputs": [
    {
     "name": "stdout",
     "output_type": "stream",
     "text": [
      "Total loss in epoch 0 is 613.0823364257812.\n",
      "Total loss in epoch 1 is 531.5040893554688.\n",
      "Total loss in epoch 2 is 476.08526611328125.\n",
      "Total loss in epoch 3 is 429.22210693359375.\n",
      "Total loss in epoch 4 is 385.42529296875.\n",
      "Total loss in epoch 5 is 344.59014892578125.\n",
      "Total loss in epoch 6 is 304.8947448730469.\n",
      "Total loss in epoch 7 is 267.8619384765625.\n",
      "Total loss in epoch 8 is 232.54722595214844.\n",
      "Total loss in epoch 9 is 200.01365661621094.\n",
      "Total loss in epoch 10 is 176.8213653564453.\n",
      "Total loss in epoch 11 is 156.35662841796875.\n",
      "Total loss in epoch 12 is 139.55943298339844.\n",
      "Total loss in epoch 13 is 129.03533935546875.\n",
      "Total loss in epoch 14 is 121.10475158691406.\n",
      "Total loss in epoch 15 is 114.87969207763672.\n",
      "Total loss in epoch 16 is 108.7334976196289.\n",
      "Total loss in epoch 17 is 104.73020935058594.\n",
      "Total loss in epoch 18 is 101.44131469726562.\n",
      "Total loss in epoch 19 is 97.85631561279297.\n",
      "Total loss in epoch 20 is 94.05367279052734.\n",
      "Total loss in epoch 21 is 91.00130462646484.\n",
      "Total loss in epoch 22 is 88.23133850097656.\n",
      "Total loss in epoch 23 is 85.32477569580078.\n",
      "Total loss in epoch 24 is 84.10183715820312.\n",
      "Total loss in epoch 25 is 82.0091552734375.\n",
      "Total loss in epoch 26 is 81.4354476928711.\n",
      "Total loss in epoch 27 is 78.0859375.\n",
      "Total loss in epoch 28 is 76.28790283203125.\n",
      "Total loss in epoch 29 is 75.60395050048828.\n",
      "Total loss in epoch 30 is 75.2310791015625.\n",
      "Total loss in epoch 31 is 74.68688201904297.\n",
      "Total loss in epoch 32 is 71.93240356445312.\n",
      "Total loss in epoch 33 is 72.0963134765625.\n",
      "Total loss in epoch 34 is 70.8971176147461.\n",
      "Total loss in epoch 35 is 69.2406997680664.\n",
      "Total loss in epoch 36 is 67.58903503417969.\n",
      "Total loss in epoch 37 is 67.426513671875.\n",
      "Total loss in epoch 38 is 66.460205078125.\n",
      "Total loss in epoch 39 is 64.95415496826172.\n",
      "Total loss in epoch 40 is 64.83556365966797.\n",
      "Total loss in epoch 41 is 65.0916976928711.\n",
      "Total loss in epoch 42 is 64.54171752929688.\n",
      "Total loss in epoch 43 is 64.24127197265625.\n",
      "Total loss in epoch 44 is 62.71575164794922.\n",
      "Total loss in epoch 45 is 61.21160888671875.\n",
      "Total loss in epoch 46 is 59.2771110534668.\n",
      "Total loss in epoch 47 is 60.18897247314453.\n",
      "Total loss in epoch 48 is 58.14693069458008.\n",
      "Total loss in epoch 49 is 59.59351348876953.\n",
      "Total loss in epoch 50 is 58.64474868774414.\n",
      "Total loss in epoch 51 is 58.40205001831055.\n",
      "Total loss in epoch 52 is 58.78213882446289.\n",
      "Total loss in epoch 53 is 57.896080017089844.\n",
      "Total loss in epoch 54 is 59.984676361083984.\n",
      "Total loss in epoch 55 is 57.99263000488281.\n",
      "Total loss in epoch 56 is 56.90119171142578.\n",
      "Total loss in epoch 57 is 56.2926139831543.\n",
      "Total loss in epoch 58 is 54.85268020629883.\n",
      "Total loss in epoch 59 is 53.562767028808594.\n",
      "Total loss in epoch 60 is 51.81800079345703.\n",
      "Total loss in epoch 61 is 51.723777770996094.\n",
      "Total loss in epoch 62 is 51.5667610168457.\n",
      "Total loss in epoch 63 is 52.30976486206055.\n",
      "Total loss in epoch 64 is 54.61298370361328.\n",
      "Total loss in epoch 65 is 54.866390228271484.\n",
      "Total loss in epoch 66 is 54.15001678466797.\n",
      "Total loss in epoch 67 is 52.46367263793945.\n",
      "Total loss in epoch 68 is 50.928524017333984.\n",
      "Total loss in epoch 69 is 50.839500427246094.\n",
      "Total loss in epoch 70 is 51.63508987426758.\n",
      "Total loss in epoch 71 is 49.362483978271484.\n",
      "Total loss in epoch 72 is 51.46991729736328.\n",
      "Total loss in epoch 73 is 51.47908020019531.\n",
      "Total loss in epoch 76 is 50.897552490234375.\n",
      "Total loss in epoch 77 is 48.176273345947266.\n",
      "Total loss in epoch 78 is 48.81657409667969.\n",
      "Total loss in epoch 79 is 49.14298629760742.\n",
      "Total loss in epoch 80 is 48.60614776611328.\n",
      "Total loss in epoch 81 is 47.7420539855957.\n",
      "Total loss in epoch 82 is 47.65761184692383.\n",
      "Total loss in epoch 83 is 48.31364822387695.\n",
      "Total loss in epoch 84 is 47.57154083251953.\n",
      "Total loss in epoch 85 is 52.628639221191406.\n",
      "Total loss in epoch 86 is 56.69640350341797.\n",
      "Total loss in epoch 87 is 54.555397033691406.\n",
      "Total loss in epoch 88 is 53.360984802246094.\n",
      "Total loss in epoch 89 is 52.80803680419922.\n",
      "Total loss in epoch 90 is 51.37494659423828.\n",
      "Total loss in epoch 91 is 49.04031753540039.\n",
      "Total loss in epoch 92 is 47.29458999633789.\n",
      "Total loss in epoch 93 is 45.06400680541992.\n",
      "Total loss in epoch 94 is 45.609066009521484.\n",
      "Total loss in epoch 95 is 45.285823822021484.\n",
      "Total loss in epoch 96 is 45.4939079284668.\n",
      "Total loss in epoch 97 is 43.531036376953125.\n",
      "Total loss in epoch 98 is 45.44517135620117.\n",
      "Total loss in epoch 99 is 45.349910736083984.\n"
     ]
    },
    {
     "data": {
      "image/png": "[encoded data removed]",
      "text/plain": [
       "<Figure size 432x288 with 1 Axes>"
      ]
     },
     "metadata": {
      "needs_background": "light"
     },
     "output_type": "display_data"
    }
   ],
   "source": [
    "# 200 is emb_size\n",
    "# 50 is batch_size\n",
    "# 30 is number of epochs\n",
    "model, lengths = train(train_X_tensor, train_lengths_tensor, train_y_tensor, len(int_index), 200, 50, 100, device)"
   ]
  },
  {
   "cell_type": "markdown",
   "metadata": {},
   "source": [
    "    The total loss and the prediction loss are almost the same, because the segmentation loss is very low."
   ]
  },
  {
   "cell_type": "code",
   "execution_count": 49,
   "metadata": {},
   "outputs": [
    {
     "data": {
      "text/plain": [
       "Segmenter(\n",
       "  (emb): Embedding(3650, 200, padding_idx=0)\n",
       "  (lstm): LSTM(200, 150, batch_first=True)\n",
       "  (sig1): Sigmoid()\n",
       "  (lin1): Linear(in_features=150, out_features=2, bias=True)\n",
       "  (lin2): Linear(in_features=150, out_features=3650, bias=True)\n",
       "  (softmax): LogSoftmax(dim=2)\n",
       ")"
      ]
     },
     "execution_count": 49,
     "metadata": {},
     "output_type": "execute_result"
    }
   ],
   "source": [
    "model.to(device)"
   ]
  },
  {
   "cell_type": "markdown",
   "metadata": {},
   "source": [
    "## Part 3 - Analysis (5 points)\n",
    "You now have three models.  The original word segmentation model, a sentence generation model, and a dual sentence-generation/word segmentation model. \n",
    "\n",
    "Compare the performance on the test data of the original word segmentation model between the original objective and the dual objective model.  \n",
    "- In how many iterations do the models converge?  \n",
    "- What are their final F1 and accuracy scores once they've converged? \n",
    "- Are they any different?  If so, why?\n",
    "\n",
    "Make the same comparison between the sentence generation model and the dual-objective model, except the performance measure is the per-word perplexity on the text (_test?_) corpus."
   ]
  },
  {
   "cell_type": "markdown",
   "metadata": {},
   "source": [
    "### Evaluation - word segmentation"
   ]
  },
  {
   "cell_type": "markdown",
   "metadata": {},
   "source": [
    "    From Asad's word segmentation model (model0):"
   ]
  },
  {
   "cell_type": "code",
   "execution_count": 50,
   "metadata": {},
   "outputs": [
    {
     "data": {
      "text/plain": [
       "Segmenter(\n",
       "  (emb): Embedding(3650, 200, padding_idx=0)\n",
       "  (lstm): LSTM(200, 150, batch_first=True)\n",
       "  (sig1): Sigmoid()\n",
       "  (lin1): Linear(in_features=150, out_features=2, bias=True)\n",
       "  (lin2): Linear(in_features=150, out_features=3650, bias=True)\n",
       "  (softmax): LogSoftmax(dim=2)\n",
       ")"
      ]
     },
     "execution_count": 50,
     "metadata": {},
     "output_type": "execute_result"
    }
   ],
   "source": [
    "model0.eval()\n",
    "model.eval()"
   ]
  },
  {
   "cell_type": "code",
   "execution_count": 51,
   "metadata": {},
   "outputs": [],
   "source": [
    "with torch.no_grad():\n",
    "    rawpredictions0 = model0(test_X_tensor, test_lengths_tensor)\n",
    "predictions0 = torch.argmax(rawpredictions0, 2)\n",
    "\n",
    "collectpreds0 = []\n",
    "collecty0 = []\n",
    "\n",
    "for i in range(test_X_tensor.size(0)):\n",
    "    collectpreds0.append(predictions0[i][:test_lengths_tensor[i]])\n",
    "    collecty0.append(test_y_tensor[i][:test_lengths_tensor[i]])\n",
    "    \n",
    "allpreds0 = torch.cat(collectpreds0).float()\n",
    "classes0 = torch.cat(collecty0).float()"
   ]
  },
  {
   "cell_type": "code",
   "execution_count": 52,
   "metadata": {},
   "outputs": [],
   "source": [
    "tp0 = sum(classes0 * allpreds0)\n",
    "fp0 = sum(classes0 * (~allpreds0.bool()).float())\n",
    "tn0 = sum((~classes0.bool()).float() * (~allpreds0.bool()).float())\n",
    "fn0 = sum((~classes0.bool()).float() * allpreds0)"
   ]
  },
  {
   "cell_type": "code",
   "execution_count": 53,
   "metadata": {},
   "outputs": [
    {
     "data": {
      "text/plain": [
       "tensor(0.9393, device='cuda:3')"
      ]
     },
     "execution_count": 53,
     "metadata": {},
     "output_type": "execute_result"
    }
   ],
   "source": [
    "accuracy0 = (tp0 + tn0) / (tp0 + fp0 + tn0 + fn0)\n",
    "accuracy0"
   ]
  },
  {
   "cell_type": "code",
   "execution_count": 54,
   "metadata": {},
   "outputs": [
    {
     "data": {
      "text/plain": [
       "tensor(0.9506, device='cuda:3')"
      ]
     },
     "execution_count": 54,
     "metadata": {},
     "output_type": "execute_result"
    }
   ],
   "source": [
    "recall0 = tp0 / (tp0 + fn0)\n",
    "recall0"
   ]
  },
  {
   "cell_type": "code",
   "execution_count": 55,
   "metadata": {},
   "outputs": [
    {
     "data": {
      "text/plain": [
       "tensor(0.9539, device='cuda:3')"
      ]
     },
     "execution_count": 55,
     "metadata": {},
     "output_type": "execute_result"
    }
   ],
   "source": [
    "precision0 = tp0 / (tp0 + fp0)\n",
    "precision0"
   ]
  },
  {
   "cell_type": "code",
   "execution_count": 56,
   "metadata": {},
   "outputs": [
    {
     "data": {
      "text/plain": [
       "tensor(0.9522, device='cuda:3')"
      ]
     },
     "execution_count": 56,
     "metadata": {},
     "output_type": "execute_result"
    }
   ],
   "source": [
    "f1_0 = (2 * recall0 * precision0) / (recall0 + precision0)\n",
    "f1_0"
   ]
  },
  {
   "cell_type": "markdown",
   "metadata": {},
   "source": [
    "    From the dual model:"
   ]
  },
  {
   "cell_type": "code",
   "execution_count": 57,
   "metadata": {},
   "outputs": [],
   "source": [
    "with torch.no_grad():\n",
    "    rawpredictions, bla = model(test_X_tensor, test_lengths_tensor)\n",
    "predictions = torch.argmax(rawpredictions, 2)\n",
    "collectpreds = []\n",
    "collecty = []\n",
    "for i in range(test_X_tensor.size(0)):\n",
    "    collectpreds.append(predictions[i][:test_lengths_tensor[i]])\n",
    "    collecty.append(test_y_tensor[i][:test_lengths_tensor[i]])\n",
    "allpreds = torch.cat(collectpreds).float()\n",
    "classes = torch.cat(collecty).float()"
   ]
  },
  {
   "cell_type": "code",
   "execution_count": 58,
   "metadata": {},
   "outputs": [],
   "source": [
    "tp = sum(classes * allpreds)\n",
    "fp = sum(classes * (~allpreds.bool()).float())\n",
    "tn = sum((~classes.bool()).float() * (~allpreds.bool()).float())\n",
    "fn = sum((~classes.bool()).float() * allpreds)"
   ]
  },
  {
   "cell_type": "code",
   "execution_count": 59,
   "metadata": {},
   "outputs": [
    {
     "data": {
      "text/plain": [
       "tensor(0.9320, device='cuda:3')"
      ]
     },
     "execution_count": 59,
     "metadata": {},
     "output_type": "execute_result"
    }
   ],
   "source": [
    "accuracy = (tp + tn) / (tp + fp + tn + fn)\n",
    "accuracy"
   ]
  },
  {
   "cell_type": "code",
   "execution_count": 60,
   "metadata": {},
   "outputs": [
    {
     "data": {
      "text/plain": [
       "tensor(0.9419, device='cuda:3')"
      ]
     },
     "execution_count": 60,
     "metadata": {},
     "output_type": "execute_result"
    }
   ],
   "source": [
    "recall = tp / (tp + fn)\n",
    "recall"
   ]
  },
  {
   "cell_type": "code",
   "execution_count": 61,
   "metadata": {},
   "outputs": [
    {
     "data": {
      "text/plain": [
       "tensor(0.9517, device='cuda:3')"
      ]
     },
     "execution_count": 61,
     "metadata": {},
     "output_type": "execute_result"
    }
   ],
   "source": [
    "precision = tp / (tp + fp)\n",
    "precision"
   ]
  },
  {
   "cell_type": "code",
   "execution_count": 62,
   "metadata": {},
   "outputs": [
    {
     "data": {
      "text/plain": [
       "tensor(0.9468, device='cuda:3')"
      ]
     },
     "execution_count": 62,
     "metadata": {},
     "output_type": "execute_result"
    }
   ],
   "source": [
    "f1 = (2 * recall * precision) / (recall + precision)\n",
    "f1"
   ]
  },
  {
   "cell_type": "markdown",
   "metadata": {},
   "source": [
    "    Asad's word segmentation model seems to converge at epoch number 40, while the model for part 1 converges at epoch number 80, since the loss does not seem to get that much lower. The dual model converges around epoch 80 as well."
   ]
  },
  {
   "cell_type": "markdown",
   "metadata": {},
   "source": [
    "| Model | Accuracy | F1score |\n",
    "| --- | --- | --- |\n",
    "| Asad's | 0.9393 | 0.9522|\n",
    "| Dual | 0.9320 | 0.9468|"
   ]
  },
  {
   "cell_type": "markdown",
   "metadata": {},
   "source": [
    "    The f1 score for Asad's word segmentation model is 95,22% and the f1 score for the dual model is 94,68% when checking the segmentation objective. The accuracy for the first model is 93.93% and 93.2% in the second one.\n",
    "    The dual model's f1 is 0,54% lower, and the accuracy, 0.73% lower. They are quite similar, probably because both models have the same layers and hyperparameters."
   ]
  },
  {
   "cell_type": "markdown",
   "metadata": {},
   "source": [
    "#### Evaluation - text generation"
   ]
  },
  {
   "cell_type": "code",
   "execution_count": 39,
   "metadata": {},
   "outputs": [],
   "source": [
    "def perplexity_time_simple(X, lengths, y, vocab_size, emb_size, batch_size, epochs, device, model):\n",
    "    loss = nn.CrossEntropyLoss()\n",
    "    b = Batcher(X, lengths, y, device, batch_size=batch_size, max_iter=epochs)\n",
    "    for split in b:\n",
    "            tot_loss = 0\n",
    "            for batch in split:\n",
    "                out = model(batch[0], batch[1])\n",
    "                l = loss(out[:, :-1, :].permute(0,2,1), batch[0][:, 1:max(batch[1])])\n",
    "                tot_loss += l\n",
    "    \n",
    "    perplexity  = torch.exp(tot_loss/50)\n",
    "    \n",
    "    print('Total perplexity:', perplexity.item())\n",
    "    return perplexity.item()"
   ]
  },
  {
   "cell_type": "code",
   "execution_count": 42,
   "metadata": {},
   "outputs": [
    {
     "name": "stdout",
     "output_type": "stream",
     "text": [
      "Total perplexity: 1.64597749710083\n"
     ]
    },
    {
     "data": {
      "text/plain": [
       "1.64597749710083"
      ]
     },
     "execution_count": 42,
     "metadata": {},
     "output_type": "execute_result"
    }
   ],
   "source": [
    "perplexity_time_simple(test_X_tensor, test_lengths_tensor, test_y_tensor, len(int_index), 200, 50, 30, device, model1)"
   ]
  },
  {
   "cell_type": "code",
   "execution_count": 37,
   "metadata": {},
   "outputs": [],
   "source": [
    "def perplexity_time_dual(X, lengths, y, vocab_size, emb_size, batch_size, epochs, device, model):\n",
    "    loss = nn.CrossEntropyLoss()\n",
    "    b = Batcher(X, lengths, y, device, batch_size=batch_size, max_iter=epochs)\n",
    "    for split in b:\n",
    "            tot_loss = 0\n",
    "            for batch in split:\n",
    "                _, out = model(batch[0], batch[1])\n",
    "                l = loss(out[:, :-1, :].permute(0,2,1), batch[0][:, 1:max(batch[1])])\n",
    "                tot_loss += l\n",
    "    \n",
    "    perplexity  = torch.exp(tot_loss/50)\n",
    "    \n",
    "    print('Total perplexity:', perplexity.item())\n",
    "    return perplexity.item()"
   ]
  },
  {
   "cell_type": "code",
   "execution_count": 40,
   "metadata": {},
   "outputs": [
    {
     "name": "stdout",
     "output_type": "stream",
     "text": [
      "Total perplexity: 1.6071158647537231\n"
     ]
    },
    {
     "data": {
      "text/plain": [
       "1.6071158647537231"
      ]
     },
     "execution_count": 40,
     "metadata": {},
     "output_type": "execute_result"
    }
   ],
   "source": [
    "# train_X_tensor, train_lengths_tensor, train_y_tensor, len(int_index), 200, 50, 30, \"cuda:1\"\n",
    "perplexity_time_dual(test_X_tensor, test_lengths_tensor, test_y_tensor, len(int_index), 200, 50, 30, device, model)"
   ]
  },
  {
   "cell_type": "markdown",
   "metadata": {},
   "source": [
    "    The perplexity for the language generation model is slightly higher than the perplexity of the dual objective model: the first one gets 1.646 and the second one, 1.607. This means that the dual objective model performs somwehat better, which is suprising, given the results (accuracy and f1 score) for the character detection part of the model."
   ]
  },
  {
   "cell_type": "code",
   "execution_count": null,
   "metadata": {},
   "outputs": [],
   "source": []
  }
 ],
 "metadata": {
  "kernelspec": {
   "display_name": "Python 3 (ipykernel)",
   "language": "python",
   "name": "python3"
  },
  "language_info": {
   "codemirror_mode": {
    "name": "ipython",
    "version": 3
   },
   "file_extension": ".py",
   "mimetype": "text/x-python",
   "name": "python",
   "nbconvert_exporter": "python",
   "pygments_lexer": "ipython3",
   "version": "3.9.6"
  }
 },
 "nbformat": 4,
 "nbformat_minor": 2
}
